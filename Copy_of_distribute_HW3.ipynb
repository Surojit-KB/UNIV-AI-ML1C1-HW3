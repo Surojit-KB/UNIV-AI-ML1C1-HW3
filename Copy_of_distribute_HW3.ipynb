{
  "nbformat": 4,
  "nbformat_minor": 0,
  "metadata": {
    "kernelspec": {
      "display_name": "Python 3",
      "language": "python",
      "name": "python3"
    },
    "language_info": {
      "codemirror_mode": {
        "name": "ipython",
        "version": 3
      },
      "file_extension": ".py",
      "mimetype": "text/x-python",
      "name": "python",
      "nbconvert_exporter": "python",
      "pygments_lexer": "ipython3",
      "version": "3.8.5"
    },
    "colab": {
      "name": "Copy of distribute_HW3.ipynb",
      "provenance": [],
      "collapsed_sections": [
        "OlHcTy-uPgGz",
        "I6IMmnkuPgG1",
        "8TvAvUosPgG3",
        "wjPt-R-CPgHA",
        "JxWpONPHPgHE",
        "DGRtw6hePgHH",
        "YBHtAN4sPgHI"
      ],
      "include_colab_link": true
    }
  },
  "cells": [
    {
      "cell_type": "markdown",
      "metadata": {
        "id": "view-in-github",
        "colab_type": "text"
      },
      "source": [
        "<a href=\"https://colab.research.google.com/github/Surojit-KB/UNIV-AI-ML1C1-HW3/blob/main/Copy_of_distribute_HW3.ipynb\" target=\"_parent\"><img src=\"https://colab.research.google.com/assets/colab-badge.svg\" alt=\"Open In Colab\"/></a>"
      ]
    },
    {
      "cell_type": "markdown",
      "metadata": {
        "id": "75pn5vb7PgGJ"
      },
      "source": [
        "<img src=\"https://drive.google.com/uc?export=view&id=1nMaBQ7g88duMECw_B4mH8ruxwnIwVzGP\" width=300/> \n",
        "\n",
        "# ML-1: Standardization, Classification & Model evaluation\n",
        "## Homework 3: Are you mad enough to sell more clothes?\n",
        "\n",
        "**ML-1 Cohort 1** <br>\n",
        "**Instructor: Dr. Rahul Dave**<br>\n",
        "**Max Score: 100** <br>"
      ]
    },
    {
      "cell_type": "markdown",
      "metadata": {
        "id": "7eGkvjGVPgGZ"
      },
      "source": [
        "### Name of people who have worked on this homework:"
      ]
    },
    {
      "cell_type": "markdown",
      "metadata": {
        "id": "ejoOKSiiPgGb"
      },
      "source": [
        "## Table of Contents \n",
        "* [HW-3: Are you mad enough to sell more clothes?](#HW-3:-Are-you-mad-enough-to-sell-more-clothes?)\n",
        "  * [Instructions](##Instructions)\n",
        "  * [Overview](##Overview)\n",
        "  * [Q1: Test & Training Sets & Standardization](##Q1:-Test-&-Training-Sets-&-Standardization)\n",
        "    * [1.1 Train-Test Split](###1.1-Train-Test-Split)\n",
        "    * [1.2 Standardizing data](##1.2-Standardizing-data)\n",
        "  * [Q2: Classification with Lasso (L1) regularization](##Q2:-Classification-with-Lasso-(L1)-regularization)\n",
        "    * [2.1 Baseline Classifiers](###2.1-Baseline-Classifiers)\n",
        "    * [2.2 Classification Model - Logistic with Lasso (L1)](###2.2-Classification-Model-Logistic-with-Lasso-(L1))\n",
        "    * [2.3 Prediction](###2.3-Prediction)\n",
        "  * [Q3: Confusion Matrix, Costs, Averge Profit & Thresholds](##Q3:-Confusion-Matrix,-Costs,-Averge-Profit-&-Thresholds)\n",
        "    * [3.1 Confusion Matrix](####3.1-Confusion-Matrix)\n",
        "    * [3.2 Cost and Utility Matrix](####3.2-Cost-and-Utility-Matrix)\n",
        "    * [3.3 Average Profit Per Person](####3.3-Average-Profit-Per-Person)\n",
        "    * [3.4 Thresholds](####3.4-Thresholds)\n",
        "  * [Q4: ROC Curves & Profit Curves](##Q4:-ROC-Curves-&-Profit-Curves)\n",
        "    * [4.1 ROC Curves](####4.1-ROC-Curves)\n",
        "    * [4.2 Profit Curves](####4.2-Profit-Curves)"
      ]
    },
    {
      "cell_type": "markdown",
      "metadata": {
        "id": "YfZMTqSfPgGc"
      },
      "source": [
        "## Instructions"
      ]
    },
    {
      "cell_type": "markdown",
      "metadata": {
        "id": "uBVocSQrPgGd"
      },
      "source": [
        "- This homework should be submitted in pairs.\n",
        "\n",
        "- Ensure you and your partner together have submitted the homework only once. Multiple submissions of the same work will be penalised and will cost you 2 points.\n",
        "\n",
        "- Please restart the kernel and run the entire notebook again before you submit.\n",
        "\n",
        "- Running cells out of order is a common pitfall in Notebooks. To make sure your code works restart the kernel and run the whole notebook again before you submit. \n",
        "\n",
        "- To work on the homework, you will first need to fork the repository into your GitHub account and clone it to work on it on your local computer. To submit your homework, push your homework into the same GitHub and upload the link on edStem.\n",
        "\n",
        "- Submit the homework well before the given deadline. Submissions after the deadline will not be graded.\n",
        "\n",
        "- We have tried to include all the libraries you may need to do the assignment in the imports statement at the top of this notebook. We strongly suggest that you use those and not others as we may not be familiar with them.\n",
        "\n",
        "- Comment your code well. This would help the graders in case there is any issue with the notebook while running. It is important to remember that the graders will not troubleshoot your code. \n",
        "\n",
        "- Please use .head() when viewing data. Do not submit a notebook that is **excessively long**. \n",
        "\n",
        "- In questions that require code to answer, such as \"calculate the $R^2$\", do not just output the value from a cell. Write a `print()` function that includes a reference to the calculated value, **not hardcoded**. For example: \n",
        "```\n",
        "print(f'The R^2 is {R:.4f}')\n",
        "```\n",
        "- Your plots should include clear labels for the $x$ and $y$ axes as well as a descriptive title (\"MSE plot\" is not a descriptive title; \"95 % confidence interval of coefficients of polynomial degree 5\" is).\n",
        "\n",
        "- **Ensure you make appropriate plots for all the questions it is applicable to, regardless of it being explicitly asked for.**\n",
        "\n",
        "<hr style=\"height:2pt\">"
      ]
    },
    {
      "cell_type": "markdown",
      "metadata": {
        "id": "hP8e4SwqPgGf"
      },
      "source": [
        "## Overview\n",
        "\n",
        "The data set is from a fairly high end clothing chain store in the North East. You should be familiar with this data from Exercise 3 where you learnt about feature engineering.\n",
        "\n",
        "You are a data analyst for this store. Your job is to write a report to the pointy-haired boss in which you show how you can increase the store's profit by targeting whom to send a catalog in the mail. Yes, you are in direct marketing. You are a quant amongst the \"mad men\". \n",
        "\n",
        "You need to explore and layout in simple terms, what the business needs to spend to increase its profit. In other words, you need a budget, and its your job to figure out how much as well.\n",
        "\n",
        "We'll guide you through the process. There is much more you can explore, of-course, but this homework will walk you through an entire real world classification and analysis process with a finite amount of work and computer runtime.\n",
        "\n",
        "You will\n",
        "\n",
        "1. learn how to standardize the data\n",
        "2. write a classifier on this data, including cross validation\n",
        "3. learn how to compare this classifier to baseline classifiers that you better beat using a profit metric rather than an accuracy metric\n",
        "4. understand and use prediction thresholds\n",
        "5. understand the use a ROC curve\n",
        "6. learn to use a profit curve to pick a model, thus directly reflecting the metric of importance\n",
        "\n",
        "You have been provided with the cleaned data after numerous feature transformations.\n",
        "\n",
        "The idea for this homework, and the attendant data set is taken from the book \"Data Mining Methods and Models\" by [Larose](http://www.dataminingconsultant.com/DMMM.htm)."
      ]
    },
    {
      "cell_type": "markdown",
      "metadata": {
        "id": "JjEO-AnmPgGg"
      },
      "source": [
        "---"
      ]
    },
    {
      "cell_type": "code",
      "metadata": {
        "id": "9nvUWwkoPgGh"
      },
      "source": [
        "# Run this cell to import the required libraries\n",
        "\n",
        "%matplotlib inline\n",
        "import numpy as np\n",
        "import scipy as sp\n",
        "from scipy.stats.stats import pearsonr\n",
        "import matplotlib as mpl\n",
        "import matplotlib.cm as cm\n",
        "import matplotlib.pyplot as plt\n",
        "from matplotlib.colors import LogNorm\n",
        "import pandas as pd\n",
        "from sklearn.model_selection import train_test_split\n",
        "from sklearn.model_selection import GridSearchCV\n",
        "from sklearn.metrics import confusion_matrix\n",
        "from sklearn.preprocessing import StandardScaler\n",
        "from sklearn.linear_model import LogisticRegression\n",
        "from sklearn.metrics import roc_curve, auc\n",
        "import warnings\n",
        "#warnings.filterwarnings(\"ignore\")\n",
        "import seaborn as sns\n",
        "# sns.set_style(\"whitegrid\")\n",
        "# sns.set_context(\"poster\")\n",
        "\n",
        "sns.set_style()\n",
        "sns.set_context(\"talk\")"
      ],
      "execution_count": null,
      "outputs": []
    },
    {
      "cell_type": "markdown",
      "metadata": {
        "id": "bif4SDxnPgGi"
      },
      "source": [
        "## Q1: Test & Training Sets & Standardization (15 points)\n",
        "\n",
        "We standardize test and training sets separately. Specifically, we wish to standardize the non-indicator columns on both the test and training sets, by subtracting out the mean of the training set from the value, and dividing by the standard deviation of the training set. This helps us put all the continuous variables on the same scale."
      ]
    },
    {
      "cell_type": "markdown",
      "metadata": {
        "id": "gUIEE5oMPgGj"
      },
      "source": [
        "#### 1.1 Train-Test Split (5 points)\n",
        "\n",
        "**Split the data(`dftouse` dataframe) into train and test in 70:30 ratio. Print out the shape of your train and test features and labels. ('X_train','X_test','y_train','y_test')**"
      ]
    },
    {
      "cell_type": "code",
      "metadata": {
        "colab": {
          "base_uri": "https://localhost:8080/",
          "height": 226
        },
        "id": "S5y6oN15Q1cy",
        "outputId": "cbebd9d5-a4cf-4650-d508-cf893e69d7de"
      },
      "source": [
        "#Dont Run\r\n",
        "#This was just done to get the raw data directly from Github, pickle it and store it in drive for further use\r\n",
        "#Pickle file is provided in the repo\r\n",
        "df = pd.read_csv(\"https://raw.githubusercontent.com/Surojit-KB/Homework3/master/data/Cleaned_clothing_store_data.csv?token=AQT2I772DITASWDKTXBSCALAFUQHS\")\r\n",
        "df.head()"
      ],
      "execution_count": null,
      "outputs": [
        {
          "output_type": "execute_result",
          "data": {
            "text/html": [
              "<div>\n",
              "<style scoped>\n",
              "    .dataframe tbody tr th:only-of-type {\n",
              "        vertical-align: middle;\n",
              "    }\n",
              "\n",
              "    .dataframe tbody tr th {\n",
              "        vertical-align: top;\n",
              "    }\n",
              "\n",
              "    .dataframe thead th {\n",
              "        text-align: right;\n",
              "    }\n",
              "</style>\n",
              "<table border=\"1\" class=\"dataframe\">\n",
              "  <thead>\n",
              "    <tr style=\"text-align: right;\">\n",
              "      <th></th>\n",
              "      <th>FRE</th>\n",
              "      <th>MON</th>\n",
              "      <th>i_CC_CARD</th>\n",
              "      <th>AVRG</th>\n",
              "      <th>PSWEATERS</th>\n",
              "      <th>PKNIT_TOPS</th>\n",
              "      <th>PKNIT_DRES</th>\n",
              "      <th>PBLOUSES</th>\n",
              "      <th>PJACKETS</th>\n",
              "      <th>PCAR_PNTS</th>\n",
              "      <th>PCAS_PNTS</th>\n",
              "      <th>PSHIRTS</th>\n",
              "      <th>PDRESSES</th>\n",
              "      <th>PSUITS</th>\n",
              "      <th>POUTERWEAR</th>\n",
              "      <th>PJEWELRY</th>\n",
              "      <th>PFASHION</th>\n",
              "      <th>PLEGWEAR</th>\n",
              "      <th>PCOLLSPND</th>\n",
              "      <th>AMSPEND</th>\n",
              "      <th>PSSPEND</th>\n",
              "      <th>CCSPEND</th>\n",
              "      <th>AXSPEND</th>\n",
              "      <th>TMONSPEND</th>\n",
              "      <th>OMONSPEND</th>\n",
              "      <th>SMONSPEND</th>\n",
              "      <th>PREVPD</th>\n",
              "      <th>GMP</th>\n",
              "      <th>PROMOS</th>\n",
              "      <th>DAYS</th>\n",
              "      <th>FREDAYS</th>\n",
              "      <th>MARKDOWN</th>\n",
              "      <th>CLASSES</th>\n",
              "      <th>COUPONS</th>\n",
              "      <th>STYLES</th>\n",
              "      <th>STORES</th>\n",
              "      <th>i_WEB</th>\n",
              "      <th>MAILED</th>\n",
              "      <th>RESPONDED</th>\n",
              "      <th>RESPONSERATE</th>\n",
              "      <th>HI</th>\n",
              "      <th>LTFREDAY</th>\n",
              "      <th>PERCRET</th>\n",
              "      <th>RESP</th>\n",
              "      <th>i_VALPHON</th>\n",
              "      <th>i_PREVPD</th>\n",
              "      <th>i_AMSPEND</th>\n",
              "      <th>i_PSSPEND</th>\n",
              "      <th>i_CCSPEND</th>\n",
              "      <th>i_AXSPEND</th>\n",
              "      <th>i_RESPONDED</th>\n",
              "      <th>i_PERCRET</th>\n",
              "      <th>i_PSWEATERS</th>\n",
              "      <th>i_PKNIT_TOPS</th>\n",
              "      <th>i_PKNIT_DRES</th>\n",
              "      <th>i_PBLOUSES</th>\n",
              "      <th>i_PJACKETS</th>\n",
              "      <th>i_PCAR_PNTS</th>\n",
              "      <th>i_PCAS_PNTS</th>\n",
              "      <th>i_PSHIRTS</th>\n",
              "      <th>i_PDRESSES</th>\n",
              "      <th>i_PSUITS</th>\n",
              "      <th>i_POUTERWEAR</th>\n",
              "      <th>i_PJEWELRY</th>\n",
              "      <th>i_PFASHION</th>\n",
              "      <th>i_PLEGWEAR</th>\n",
              "      <th>i_PCOLLSPND</th>\n",
              "      <th>i_RECENT</th>\n",
              "      <th>i_SAVER</th>\n",
              "    </tr>\n",
              "  </thead>\n",
              "  <tbody>\n",
              "    <tr>\n",
              "      <th>0</th>\n",
              "      <td>2</td>\n",
              "      <td>368.46</td>\n",
              "      <td>0</td>\n",
              "      <td>184.23</td>\n",
              "      <td>0.18</td>\n",
              "      <td>0.00</td>\n",
              "      <td>0.00</td>\n",
              "      <td>0.30</td>\n",
              "      <td>0.0</td>\n",
              "      <td>0.25</td>\n",
              "      <td>0.00</td>\n",
              "      <td>0.19</td>\n",
              "      <td>0.00</td>\n",
              "      <td>0.0</td>\n",
              "      <td>0.0</td>\n",
              "      <td>0.000000</td>\n",
              "      <td>0.02</td>\n",
              "      <td>0.03</td>\n",
              "      <td>0.29</td>\n",
              "      <td>0.0</td>\n",
              "      <td>0.0</td>\n",
              "      <td>368.46</td>\n",
              "      <td>0.0</td>\n",
              "      <td>0.00</td>\n",
              "      <td>0.00</td>\n",
              "      <td>0.00</td>\n",
              "      <td>0.00</td>\n",
              "      <td>0.60</td>\n",
              "      <td>17</td>\n",
              "      <td>666</td>\n",
              "      <td>333.00</td>\n",
              "      <td>0.08</td>\n",
              "      <td>9</td>\n",
              "      <td>1</td>\n",
              "      <td>11</td>\n",
              "      <td>1</td>\n",
              "      <td>0</td>\n",
              "      <td>5</td>\n",
              "      <td>0</td>\n",
              "      <td>0.00</td>\n",
              "      <td>31.81</td>\n",
              "      <td>111.00</td>\n",
              "      <td>0.00</td>\n",
              "      <td>0</td>\n",
              "      <td>0</td>\n",
              "      <td>0</td>\n",
              "      <td>0</td>\n",
              "      <td>0</td>\n",
              "      <td>1</td>\n",
              "      <td>0</td>\n",
              "      <td>0</td>\n",
              "      <td>0</td>\n",
              "      <td>1</td>\n",
              "      <td>0</td>\n",
              "      <td>0</td>\n",
              "      <td>1</td>\n",
              "      <td>0</td>\n",
              "      <td>1</td>\n",
              "      <td>0</td>\n",
              "      <td>1</td>\n",
              "      <td>0</td>\n",
              "      <td>0</td>\n",
              "      <td>0</td>\n",
              "      <td>0</td>\n",
              "      <td>1</td>\n",
              "      <td>1</td>\n",
              "      <td>1</td>\n",
              "      <td>0</td>\n",
              "      <td>1</td>\n",
              "    </tr>\n",
              "    <tr>\n",
              "      <th>1</th>\n",
              "      <td>4</td>\n",
              "      <td>258.00</td>\n",
              "      <td>1</td>\n",
              "      <td>64.50</td>\n",
              "      <td>0.26</td>\n",
              "      <td>0.16</td>\n",
              "      <td>0.00</td>\n",
              "      <td>0.00</td>\n",
              "      <td>0.0</td>\n",
              "      <td>0.18</td>\n",
              "      <td>0.14</td>\n",
              "      <td>0.00</td>\n",
              "      <td>0.18</td>\n",
              "      <td>0.0</td>\n",
              "      <td>0.0</td>\n",
              "      <td>0.000000</td>\n",
              "      <td>0.00</td>\n",
              "      <td>0.02</td>\n",
              "      <td>0.37</td>\n",
              "      <td>0.0</td>\n",
              "      <td>0.0</td>\n",
              "      <td>258.00</td>\n",
              "      <td>0.0</td>\n",
              "      <td>138.00</td>\n",
              "      <td>55.99</td>\n",
              "      <td>258.00</td>\n",
              "      <td>0.00</td>\n",
              "      <td>0.54</td>\n",
              "      <td>14</td>\n",
              "      <td>696</td>\n",
              "      <td>174.00</td>\n",
              "      <td>0.33</td>\n",
              "      <td>6</td>\n",
              "      <td>0</td>\n",
              "      <td>14</td>\n",
              "      <td>1</td>\n",
              "      <td>0</td>\n",
              "      <td>4</td>\n",
              "      <td>2</td>\n",
              "      <td>50.00</td>\n",
              "      <td>32.72</td>\n",
              "      <td>43.50</td>\n",
              "      <td>0.03</td>\n",
              "      <td>1</td>\n",
              "      <td>1</td>\n",
              "      <td>0</td>\n",
              "      <td>0</td>\n",
              "      <td>0</td>\n",
              "      <td>1</td>\n",
              "      <td>0</td>\n",
              "      <td>1</td>\n",
              "      <td>1</td>\n",
              "      <td>1</td>\n",
              "      <td>1</td>\n",
              "      <td>0</td>\n",
              "      <td>0</td>\n",
              "      <td>0</td>\n",
              "      <td>1</td>\n",
              "      <td>1</td>\n",
              "      <td>0</td>\n",
              "      <td>1</td>\n",
              "      <td>0</td>\n",
              "      <td>0</td>\n",
              "      <td>0</td>\n",
              "      <td>0</td>\n",
              "      <td>1</td>\n",
              "      <td>1</td>\n",
              "      <td>1</td>\n",
              "      <td>1</td>\n",
              "    </tr>\n",
              "    <tr>\n",
              "      <th>2</th>\n",
              "      <td>2</td>\n",
              "      <td>77.00</td>\n",
              "      <td>0</td>\n",
              "      <td>38.50</td>\n",
              "      <td>1.00</td>\n",
              "      <td>0.00</td>\n",
              "      <td>0.00</td>\n",
              "      <td>0.00</td>\n",
              "      <td>0.0</td>\n",
              "      <td>0.00</td>\n",
              "      <td>0.00</td>\n",
              "      <td>0.00</td>\n",
              "      <td>0.00</td>\n",
              "      <td>0.0</td>\n",
              "      <td>0.0</td>\n",
              "      <td>0.000000</td>\n",
              "      <td>0.00</td>\n",
              "      <td>0.00</td>\n",
              "      <td>0.00</td>\n",
              "      <td>0.0</td>\n",
              "      <td>0.0</td>\n",
              "      <td>77.00</td>\n",
              "      <td>0.0</td>\n",
              "      <td>0.00</td>\n",
              "      <td>0.00</td>\n",
              "      <td>0.00</td>\n",
              "      <td>39.00</td>\n",
              "      <td>0.62</td>\n",
              "      <td>10</td>\n",
              "      <td>343</td>\n",
              "      <td>171.50</td>\n",
              "      <td>0.11</td>\n",
              "      <td>1</td>\n",
              "      <td>0</td>\n",
              "      <td>2</td>\n",
              "      <td>1</td>\n",
              "      <td>0</td>\n",
              "      <td>4</td>\n",
              "      <td>0</td>\n",
              "      <td>0.00</td>\n",
              "      <td>100.00</td>\n",
              "      <td>68.60</td>\n",
              "      <td>0.00</td>\n",
              "      <td>0</td>\n",
              "      <td>0</td>\n",
              "      <td>1</td>\n",
              "      <td>0</td>\n",
              "      <td>0</td>\n",
              "      <td>1</td>\n",
              "      <td>0</td>\n",
              "      <td>0</td>\n",
              "      <td>0</td>\n",
              "      <td>1</td>\n",
              "      <td>0</td>\n",
              "      <td>0</td>\n",
              "      <td>0</td>\n",
              "      <td>0</td>\n",
              "      <td>0</td>\n",
              "      <td>0</td>\n",
              "      <td>0</td>\n",
              "      <td>0</td>\n",
              "      <td>0</td>\n",
              "      <td>0</td>\n",
              "      <td>0</td>\n",
              "      <td>0</td>\n",
              "      <td>0</td>\n",
              "      <td>0</td>\n",
              "      <td>0</td>\n",
              "      <td>1</td>\n",
              "    </tr>\n",
              "    <tr>\n",
              "      <th>3</th>\n",
              "      <td>8</td>\n",
              "      <td>846.06</td>\n",
              "      <td>1</td>\n",
              "      <td>105.75</td>\n",
              "      <td>0.38</td>\n",
              "      <td>0.00</td>\n",
              "      <td>0.05</td>\n",
              "      <td>0.06</td>\n",
              "      <td>0.2</td>\n",
              "      <td>0.17</td>\n",
              "      <td>0.00</td>\n",
              "      <td>0.05</td>\n",
              "      <td>0.00</td>\n",
              "      <td>0.0</td>\n",
              "      <td>0.0</td>\n",
              "      <td>0.005307</td>\n",
              "      <td>0.03</td>\n",
              "      <td>0.01</td>\n",
              "      <td>0.00</td>\n",
              "      <td>0.0</td>\n",
              "      <td>0.0</td>\n",
              "      <td>846.06</td>\n",
              "      <td>0.0</td>\n",
              "      <td>104.94</td>\n",
              "      <td>0.00</td>\n",
              "      <td>373.87</td>\n",
              "      <td>166.25</td>\n",
              "      <td>0.43</td>\n",
              "      <td>24</td>\n",
              "      <td>701</td>\n",
              "      <td>87.62</td>\n",
              "      <td>0.29</td>\n",
              "      <td>15</td>\n",
              "      <td>3</td>\n",
              "      <td>35</td>\n",
              "      <td>1</td>\n",
              "      <td>0</td>\n",
              "      <td>9</td>\n",
              "      <td>6</td>\n",
              "      <td>66.67</td>\n",
              "      <td>23.27</td>\n",
              "      <td>26.96</td>\n",
              "      <td>0.00</td>\n",
              "      <td>0</td>\n",
              "      <td>1</td>\n",
              "      <td>1</td>\n",
              "      <td>0</td>\n",
              "      <td>0</td>\n",
              "      <td>1</td>\n",
              "      <td>0</td>\n",
              "      <td>1</td>\n",
              "      <td>0</td>\n",
              "      <td>1</td>\n",
              "      <td>0</td>\n",
              "      <td>1</td>\n",
              "      <td>1</td>\n",
              "      <td>1</td>\n",
              "      <td>1</td>\n",
              "      <td>0</td>\n",
              "      <td>1</td>\n",
              "      <td>0</td>\n",
              "      <td>0</td>\n",
              "      <td>0</td>\n",
              "      <td>1</td>\n",
              "      <td>1</td>\n",
              "      <td>1</td>\n",
              "      <td>0</td>\n",
              "      <td>1</td>\n",
              "      <td>1</td>\n",
              "    </tr>\n",
              "    <tr>\n",
              "      <th>4</th>\n",
              "      <td>1</td>\n",
              "      <td>87.44</td>\n",
              "      <td>0</td>\n",
              "      <td>87.44</td>\n",
              "      <td>0.20</td>\n",
              "      <td>0.20</td>\n",
              "      <td>0.00</td>\n",
              "      <td>0.00</td>\n",
              "      <td>0.0</td>\n",
              "      <td>0.00</td>\n",
              "      <td>0.41</td>\n",
              "      <td>0.00</td>\n",
              "      <td>0.00</td>\n",
              "      <td>0.0</td>\n",
              "      <td>0.0</td>\n",
              "      <td>0.170000</td>\n",
              "      <td>0.00</td>\n",
              "      <td>0.00</td>\n",
              "      <td>0.00</td>\n",
              "      <td>0.0</td>\n",
              "      <td>0.0</td>\n",
              "      <td>87.44</td>\n",
              "      <td>0.0</td>\n",
              "      <td>87.44</td>\n",
              "      <td>0.00</td>\n",
              "      <td>87.44</td>\n",
              "      <td>0.00</td>\n",
              "      <td>0.22</td>\n",
              "      <td>0</td>\n",
              "      <td>49</td>\n",
              "      <td>49.00</td>\n",
              "      <td>0.42</td>\n",
              "      <td>4</td>\n",
              "      <td>0</td>\n",
              "      <td>8</td>\n",
              "      <td>1</td>\n",
              "      <td>0</td>\n",
              "      <td>0</td>\n",
              "      <td>0</td>\n",
              "      <td>0.00</td>\n",
              "      <td>28.52</td>\n",
              "      <td>24.50</td>\n",
              "      <td>0.00</td>\n",
              "      <td>0</td>\n",
              "      <td>1</td>\n",
              "      <td>0</td>\n",
              "      <td>0</td>\n",
              "      <td>0</td>\n",
              "      <td>1</td>\n",
              "      <td>0</td>\n",
              "      <td>0</td>\n",
              "      <td>0</td>\n",
              "      <td>1</td>\n",
              "      <td>1</td>\n",
              "      <td>0</td>\n",
              "      <td>0</td>\n",
              "      <td>0</td>\n",
              "      <td>0</td>\n",
              "      <td>1</td>\n",
              "      <td>0</td>\n",
              "      <td>0</td>\n",
              "      <td>0</td>\n",
              "      <td>0</td>\n",
              "      <td>1</td>\n",
              "      <td>0</td>\n",
              "      <td>0</td>\n",
              "      <td>0</td>\n",
              "      <td>1</td>\n",
              "      <td>1</td>\n",
              "    </tr>\n",
              "  </tbody>\n",
              "</table>\n",
              "</div>"
            ],
            "text/plain": [
              "   FRE     MON  i_CC_CARD    AVRG  ...  i_PLEGWEAR  i_PCOLLSPND  i_RECENT  i_SAVER\n",
              "0    2  368.46          0  184.23  ...           1            1         0        1\n",
              "1    4  258.00          1   64.50  ...           1            1         1        1\n",
              "2    2   77.00          0   38.50  ...           0            0         0        1\n",
              "3    8  846.06          1  105.75  ...           1            0         1        1\n",
              "4    1   87.44          0   87.44  ...           0            0         1        1\n",
              "\n",
              "[5 rows x 69 columns]"
            ]
          },
          "metadata": {
            "tags": []
          },
          "execution_count": 4
        }
      ]
    },
    {
      "cell_type": "code",
      "metadata": {
        "colab": {
          "base_uri": "https://localhost:8080/"
        },
        "id": "Ig6N2TohRi6A",
        "outputId": "93d7b8e9-5eb8-4368-b3cb-80d840f2f96e"
      },
      "source": [
        "from google.colab import drive\r\n",
        "drive.mount('/content/drive') "
      ],
      "execution_count": null,
      "outputs": [
        {
          "output_type": "stream",
          "text": [
            "Mounted at /content/drive\n"
          ],
          "name": "stdout"
        }
      ]
    },
    {
      "cell_type": "code",
      "metadata": {
        "id": "_1Z9MY5sRqOW"
      },
      "source": [
        "df.to_pickle('/content/drive/MyDrive/Colab Notebooks/UNIV-AI-ML1/HW1/Cleaned_clothing_store.csv')\r\n",
        "del df"
      ],
      "execution_count": null,
      "outputs": []
    },
    {
      "cell_type": "code",
      "metadata": {
        "id": "qhdYfXIePgGk"
      },
      "source": [
        "# loading data from pickle\n",
        "#Change the location appropriately\n",
        "df = pd.read_pickle('/content/drive/MyDrive/Colab Notebooks/UNIV-AI-ML1/HW1/Cleaned_clothing_store.csv')\n",
        "dftouse = df.copy()"
      ],
      "execution_count": null,
      "outputs": []
    },
    {
      "cell_type": "code",
      "metadata": {
        "id": "gvC-60E0PgGm",
        "colab": {
          "base_uri": "https://localhost:8080/"
        },
        "outputId": "83a9f954-fee7-4472-c46c-f34aece22b67"
      },
      "source": [
        "# your code here\r\n",
        "#Splitting the data into 70-30 train test split\r\n",
        "X=dftouse.drop('RESP',axis=1)\r\n",
        "y=dftouse['RESP']\r\n",
        "X_train,X_test,y_train,y_test=train_test_split(X,y,train_size=0.7,test_size=0.3) \r\n",
        "print('Train shape:',X_train.shape)\r\n",
        "print('Test shape:',X_test.shape)"
      ],
      "execution_count": null,
      "outputs": [
        {
          "output_type": "stream",
          "text": [
            "Train shape: (15217, 68)\n",
            "Test shape: (6522, 68)\n"
          ],
          "name": "stdout"
        }
      ]
    },
    {
      "cell_type": "code",
      "metadata": {
        "colab": {
          "base_uri": "https://localhost:8080/"
        },
        "id": "vv4KKCZjGt8L",
        "outputId": "71b9f06e-2639-43f0-d3ea-8a290069e2af"
      },
      "source": [
        "print(X_train.columns)"
      ],
      "execution_count": null,
      "outputs": [
        {
          "output_type": "stream",
          "text": [
            "Index(['FRE', 'MON', 'i_CC_CARD', 'AVRG', 'PSWEATERS', 'PKNIT_TOPS',\n",
            "       'PKNIT_DRES', 'PBLOUSES', 'PJACKETS', 'PCAR_PNTS', 'PCAS_PNTS',\n",
            "       'PSHIRTS', 'PDRESSES', 'PSUITS', 'POUTERWEAR', 'PJEWELRY', 'PFASHION',\n",
            "       'PLEGWEAR', 'PCOLLSPND', 'AMSPEND', 'PSSPEND', 'CCSPEND', 'AXSPEND',\n",
            "       'TMONSPEND', 'OMONSPEND', 'SMONSPEND', 'PREVPD', 'GMP', 'PROMOS',\n",
            "       'DAYS', 'FREDAYS', 'MARKDOWN', 'CLASSES', 'COUPONS', 'STYLES', 'STORES',\n",
            "       'i_WEB', 'MAILED', 'RESPONDED', 'RESPONSERATE', 'HI', 'LTFREDAY',\n",
            "       'PERCRET', 'i_VALPHON', 'i_PREVPD', 'i_AMSPEND', 'i_PSSPEND',\n",
            "       'i_CCSPEND', 'i_AXSPEND', 'i_RESPONDED', 'i_PERCRET', 'i_PSWEATERS',\n",
            "       'i_PKNIT_TOPS', 'i_PKNIT_DRES', 'i_PBLOUSES', 'i_PJACKETS',\n",
            "       'i_PCAR_PNTS', 'i_PCAS_PNTS', 'i_PSHIRTS', 'i_PDRESSES', 'i_PSUITS',\n",
            "       'i_POUTERWEAR', 'i_PJEWELRY', 'i_PFASHION', 'i_PLEGWEAR', 'i_PCOLLSPND',\n",
            "       'i_RECENT', 'i_SAVER'],\n",
            "      dtype='object')\n"
          ],
          "name": "stdout"
        }
      ]
    },
    {
      "cell_type": "code",
      "metadata": {
        "colab": {
          "base_uri": "https://localhost:8080/",
          "height": 320
        },
        "id": "0RlFjH67Hwce",
        "outputId": "a4e21b16-7bfd-4ccb-ce00-08e60bfe08de"
      },
      "source": [
        "#Taking a look at the various statistics of the train set\r\n",
        "X_train.describe()"
      ],
      "execution_count": null,
      "outputs": [
        {
          "output_type": "execute_result",
          "data": {
            "text/html": [
              "<div>\n",
              "<style scoped>\n",
              "    .dataframe tbody tr th:only-of-type {\n",
              "        vertical-align: middle;\n",
              "    }\n",
              "\n",
              "    .dataframe tbody tr th {\n",
              "        vertical-align: top;\n",
              "    }\n",
              "\n",
              "    .dataframe thead th {\n",
              "        text-align: right;\n",
              "    }\n",
              "</style>\n",
              "<table border=\"1\" class=\"dataframe\">\n",
              "  <thead>\n",
              "    <tr style=\"text-align: right;\">\n",
              "      <th></th>\n",
              "      <th>FRE</th>\n",
              "      <th>MON</th>\n",
              "      <th>i_CC_CARD</th>\n",
              "      <th>AVRG</th>\n",
              "      <th>PSWEATERS</th>\n",
              "      <th>PKNIT_TOPS</th>\n",
              "      <th>PKNIT_DRES</th>\n",
              "      <th>PBLOUSES</th>\n",
              "      <th>PJACKETS</th>\n",
              "      <th>PCAR_PNTS</th>\n",
              "      <th>PCAS_PNTS</th>\n",
              "      <th>PSHIRTS</th>\n",
              "      <th>PDRESSES</th>\n",
              "      <th>PSUITS</th>\n",
              "      <th>POUTERWEAR</th>\n",
              "      <th>PJEWELRY</th>\n",
              "      <th>PFASHION</th>\n",
              "      <th>PLEGWEAR</th>\n",
              "      <th>PCOLLSPND</th>\n",
              "      <th>AMSPEND</th>\n",
              "      <th>PSSPEND</th>\n",
              "      <th>CCSPEND</th>\n",
              "      <th>AXSPEND</th>\n",
              "      <th>TMONSPEND</th>\n",
              "      <th>OMONSPEND</th>\n",
              "      <th>SMONSPEND</th>\n",
              "      <th>PREVPD</th>\n",
              "      <th>GMP</th>\n",
              "      <th>PROMOS</th>\n",
              "      <th>DAYS</th>\n",
              "      <th>FREDAYS</th>\n",
              "      <th>MARKDOWN</th>\n",
              "      <th>CLASSES</th>\n",
              "      <th>COUPONS</th>\n",
              "      <th>STYLES</th>\n",
              "      <th>STORES</th>\n",
              "      <th>i_WEB</th>\n",
              "      <th>MAILED</th>\n",
              "      <th>RESPONDED</th>\n",
              "      <th>RESPONSERATE</th>\n",
              "      <th>HI</th>\n",
              "      <th>LTFREDAY</th>\n",
              "      <th>PERCRET</th>\n",
              "      <th>i_VALPHON</th>\n",
              "      <th>i_PREVPD</th>\n",
              "      <th>i_AMSPEND</th>\n",
              "      <th>i_PSSPEND</th>\n",
              "      <th>i_CCSPEND</th>\n",
              "      <th>i_AXSPEND</th>\n",
              "      <th>i_RESPONDED</th>\n",
              "      <th>i_PERCRET</th>\n",
              "      <th>i_PSWEATERS</th>\n",
              "      <th>i_PKNIT_TOPS</th>\n",
              "      <th>i_PKNIT_DRES</th>\n",
              "      <th>i_PBLOUSES</th>\n",
              "      <th>i_PJACKETS</th>\n",
              "      <th>i_PCAR_PNTS</th>\n",
              "      <th>i_PCAS_PNTS</th>\n",
              "      <th>i_PSHIRTS</th>\n",
              "      <th>i_PDRESSES</th>\n",
              "      <th>i_PSUITS</th>\n",
              "      <th>i_POUTERWEAR</th>\n",
              "      <th>i_PJEWELRY</th>\n",
              "      <th>i_PFASHION</th>\n",
              "      <th>i_PLEGWEAR</th>\n",
              "      <th>i_PCOLLSPND</th>\n",
              "      <th>i_RECENT</th>\n",
              "      <th>i_SAVER</th>\n",
              "    </tr>\n",
              "  </thead>\n",
              "  <tbody>\n",
              "    <tr>\n",
              "      <th>count</th>\n",
              "      <td>15217.00000</td>\n",
              "      <td>15217.000000</td>\n",
              "      <td>15217.000000</td>\n",
              "      <td>15217.000000</td>\n",
              "      <td>15217.000000</td>\n",
              "      <td>15217.000000</td>\n",
              "      <td>15217.000000</td>\n",
              "      <td>15217.000000</td>\n",
              "      <td>15217.000000</td>\n",
              "      <td>15217.000000</td>\n",
              "      <td>15217.000000</td>\n",
              "      <td>15217.000000</td>\n",
              "      <td>15217.000000</td>\n",
              "      <td>15217.000000</td>\n",
              "      <td>15217.000000</td>\n",
              "      <td>15217.000000</td>\n",
              "      <td>15217.000000</td>\n",
              "      <td>15217.000000</td>\n",
              "      <td>15217.000000</td>\n",
              "      <td>15217.000000</td>\n",
              "      <td>15217.000000</td>\n",
              "      <td>15217.000000</td>\n",
              "      <td>15217.000000</td>\n",
              "      <td>15217.000000</td>\n",
              "      <td>15217.000000</td>\n",
              "      <td>15217.000000</td>\n",
              "      <td>15217.000000</td>\n",
              "      <td>15217.000000</td>\n",
              "      <td>15217.000000</td>\n",
              "      <td>15217.000000</td>\n",
              "      <td>15217.000000</td>\n",
              "      <td>15217.000000</td>\n",
              "      <td>15217.000000</td>\n",
              "      <td>15217.000000</td>\n",
              "      <td>15217.000000</td>\n",
              "      <td>15217.000000</td>\n",
              "      <td>15217.000000</td>\n",
              "      <td>15217.000000</td>\n",
              "      <td>15217.000000</td>\n",
              "      <td>15217.000000</td>\n",
              "      <td>15217.000000</td>\n",
              "      <td>15217.0000</td>\n",
              "      <td>15217.000000</td>\n",
              "      <td>15217.000000</td>\n",
              "      <td>15217.000000</td>\n",
              "      <td>15217.000000</td>\n",
              "      <td>15217.000000</td>\n",
              "      <td>15217.0</td>\n",
              "      <td>15217.000000</td>\n",
              "      <td>15217.000000</td>\n",
              "      <td>15217.000000</td>\n",
              "      <td>15217.000000</td>\n",
              "      <td>15217.000000</td>\n",
              "      <td>15217.000000</td>\n",
              "      <td>15217.000000</td>\n",
              "      <td>15217.000000</td>\n",
              "      <td>15217.000000</td>\n",
              "      <td>15217.000000</td>\n",
              "      <td>15217.000000</td>\n",
              "      <td>15217.000000</td>\n",
              "      <td>15217.000000</td>\n",
              "      <td>15217.000000</td>\n",
              "      <td>15217.000000</td>\n",
              "      <td>15217.000000</td>\n",
              "      <td>15217.000000</td>\n",
              "      <td>15217.000000</td>\n",
              "      <td>15217.000000</td>\n",
              "      <td>15217.000000</td>\n",
              "    </tr>\n",
              "    <tr>\n",
              "      <th>mean</th>\n",
              "      <td>5.06565</td>\n",
              "      <td>471.125266</td>\n",
              "      <td>0.380890</td>\n",
              "      <td>113.758614</td>\n",
              "      <td>0.214149</td>\n",
              "      <td>0.026825</td>\n",
              "      <td>0.040494</td>\n",
              "      <td>0.093245</td>\n",
              "      <td>0.136503</td>\n",
              "      <td>0.086265</td>\n",
              "      <td>0.069156</td>\n",
              "      <td>0.066745</td>\n",
              "      <td>0.069121</td>\n",
              "      <td>0.032834</td>\n",
              "      <td>0.018651</td>\n",
              "      <td>0.009678</td>\n",
              "      <td>0.029789</td>\n",
              "      <td>0.012506</td>\n",
              "      <td>0.074376</td>\n",
              "      <td>13.784234</td>\n",
              "      <td>143.795577</td>\n",
              "      <td>289.032433</td>\n",
              "      <td>24.748004</td>\n",
              "      <td>88.907464</td>\n",
              "      <td>31.614423</td>\n",
              "      <td>221.810178</td>\n",
              "      <td>41.040010</td>\n",
              "      <td>0.522382</td>\n",
              "      <td>11.596372</td>\n",
              "      <td>437.752776</td>\n",
              "      <td>171.599697</td>\n",
              "      <td>0.186996</td>\n",
              "      <td>7.134323</td>\n",
              "      <td>0.743445</td>\n",
              "      <td>17.146612</td>\n",
              "      <td>2.338700</td>\n",
              "      <td>0.042781</td>\n",
              "      <td>4.676415</td>\n",
              "      <td>1.189328</td>\n",
              "      <td>17.257026</td>\n",
              "      <td>38.131882</td>\n",
              "      <td>81.0062</td>\n",
              "      <td>0.128939</td>\n",
              "      <td>0.857922</td>\n",
              "      <td>0.239798</td>\n",
              "      <td>0.048301</td>\n",
              "      <td>0.443057</td>\n",
              "      <td>1.0</td>\n",
              "      <td>0.131892</td>\n",
              "      <td>0.460472</td>\n",
              "      <td>0.339226</td>\n",
              "      <td>0.739699</td>\n",
              "      <td>0.369915</td>\n",
              "      <td>0.303345</td>\n",
              "      <td>0.579286</td>\n",
              "      <td>0.519748</td>\n",
              "      <td>0.460932</td>\n",
              "      <td>0.425971</td>\n",
              "      <td>0.441217</td>\n",
              "      <td>0.335546</td>\n",
              "      <td>0.111783</td>\n",
              "      <td>0.075179</td>\n",
              "      <td>0.218900</td>\n",
              "      <td>0.350200</td>\n",
              "      <td>0.262667</td>\n",
              "      <td>0.268121</td>\n",
              "      <td>0.457186</td>\n",
              "      <td>0.869554</td>\n",
              "    </tr>\n",
              "    <tr>\n",
              "      <th>std</th>\n",
              "      <td>6.42875</td>\n",
              "      <td>632.320458</td>\n",
              "      <td>0.485622</td>\n",
              "      <td>86.947881</td>\n",
              "      <td>0.232256</td>\n",
              "      <td>0.069367</td>\n",
              "      <td>0.107963</td>\n",
              "      <td>0.136316</td>\n",
              "      <td>0.183031</td>\n",
              "      <td>0.139955</td>\n",
              "      <td>0.133131</td>\n",
              "      <td>0.117780</td>\n",
              "      <td>0.158774</td>\n",
              "      <td>0.127833</td>\n",
              "      <td>0.100956</td>\n",
              "      <td>0.037190</td>\n",
              "      <td>0.076251</td>\n",
              "      <td>0.049627</td>\n",
              "      <td>0.176761</td>\n",
              "      <td>126.938040</td>\n",
              "      <td>379.032381</td>\n",
              "      <td>453.336205</td>\n",
              "      <td>118.967399</td>\n",
              "      <td>181.021714</td>\n",
              "      <td>97.198273</td>\n",
              "      <td>362.911420</td>\n",
              "      <td>106.868222</td>\n",
              "      <td>0.142734</td>\n",
              "      <td>7.147228</td>\n",
              "      <td>192.356762</td>\n",
              "      <td>146.309774</td>\n",
              "      <td>0.129862</td>\n",
              "      <td>5.341699</td>\n",
              "      <td>1.669105</td>\n",
              "      <td>24.535021</td>\n",
              "      <td>1.618081</td>\n",
              "      <td>0.202370</td>\n",
              "      <td>3.545675</td>\n",
              "      <td>1.826525</td>\n",
              "      <td>24.583980</td>\n",
              "      <td>28.472490</td>\n",
              "      <td>79.6507</td>\n",
              "      <td>0.508696</td>\n",
              "      <td>0.349142</td>\n",
              "      <td>0.426974</td>\n",
              "      <td>0.214409</td>\n",
              "      <td>0.496763</td>\n",
              "      <td>0.0</td>\n",
              "      <td>0.338384</td>\n",
              "      <td>0.498451</td>\n",
              "      <td>0.473462</td>\n",
              "      <td>0.438813</td>\n",
              "      <td>0.482797</td>\n",
              "      <td>0.459718</td>\n",
              "      <td>0.493690</td>\n",
              "      <td>0.499626</td>\n",
              "      <td>0.498488</td>\n",
              "      <td>0.494506</td>\n",
              "      <td>0.496549</td>\n",
              "      <td>0.472196</td>\n",
              "      <td>0.315109</td>\n",
              "      <td>0.263689</td>\n",
              "      <td>0.413514</td>\n",
              "      <td>0.477048</td>\n",
              "      <td>0.440097</td>\n",
              "      <td>0.442996</td>\n",
              "      <td>0.498180</td>\n",
              "      <td>0.336805</td>\n",
              "    </tr>\n",
              "    <tr>\n",
              "      <th>min</th>\n",
              "      <td>1.00000</td>\n",
              "      <td>0.990000</td>\n",
              "      <td>0.000000</td>\n",
              "      <td>0.490000</td>\n",
              "      <td>0.000000</td>\n",
              "      <td>0.000000</td>\n",
              "      <td>0.000000</td>\n",
              "      <td>0.000000</td>\n",
              "      <td>0.000000</td>\n",
              "      <td>0.000000</td>\n",
              "      <td>0.000000</td>\n",
              "      <td>0.000000</td>\n",
              "      <td>0.000000</td>\n",
              "      <td>0.000000</td>\n",
              "      <td>0.000000</td>\n",
              "      <td>0.000000</td>\n",
              "      <td>0.000000</td>\n",
              "      <td>0.000000</td>\n",
              "      <td>0.000000</td>\n",
              "      <td>0.000000</td>\n",
              "      <td>0.000000</td>\n",
              "      <td>0.010000</td>\n",
              "      <td>0.000000</td>\n",
              "      <td>0.000000</td>\n",
              "      <td>0.000000</td>\n",
              "      <td>0.000000</td>\n",
              "      <td>0.000000</td>\n",
              "      <td>0.000000</td>\n",
              "      <td>0.000000</td>\n",
              "      <td>1.000000</td>\n",
              "      <td>1.000000</td>\n",
              "      <td>0.000000</td>\n",
              "      <td>1.000000</td>\n",
              "      <td>0.000000</td>\n",
              "      <td>1.000000</td>\n",
              "      <td>1.000000</td>\n",
              "      <td>0.000000</td>\n",
              "      <td>0.000000</td>\n",
              "      <td>0.000000</td>\n",
              "      <td>0.000000</td>\n",
              "      <td>0.210000</td>\n",
              "      <td>0.3900</td>\n",
              "      <td>0.000000</td>\n",
              "      <td>0.000000</td>\n",
              "      <td>0.000000</td>\n",
              "      <td>0.000000</td>\n",
              "      <td>0.000000</td>\n",
              "      <td>1.0</td>\n",
              "      <td>0.000000</td>\n",
              "      <td>0.000000</td>\n",
              "      <td>0.000000</td>\n",
              "      <td>0.000000</td>\n",
              "      <td>0.000000</td>\n",
              "      <td>0.000000</td>\n",
              "      <td>0.000000</td>\n",
              "      <td>0.000000</td>\n",
              "      <td>0.000000</td>\n",
              "      <td>0.000000</td>\n",
              "      <td>0.000000</td>\n",
              "      <td>0.000000</td>\n",
              "      <td>0.000000</td>\n",
              "      <td>0.000000</td>\n",
              "      <td>0.000000</td>\n",
              "      <td>0.000000</td>\n",
              "      <td>0.000000</td>\n",
              "      <td>0.000000</td>\n",
              "      <td>0.000000</td>\n",
              "      <td>0.000000</td>\n",
              "    </tr>\n",
              "    <tr>\n",
              "      <th>25%</th>\n",
              "      <td>1.00000</td>\n",
              "      <td>135.000000</td>\n",
              "      <td>0.000000</td>\n",
              "      <td>61.110000</td>\n",
              "      <td>0.000000</td>\n",
              "      <td>0.000000</td>\n",
              "      <td>0.000000</td>\n",
              "      <td>0.000000</td>\n",
              "      <td>0.000000</td>\n",
              "      <td>0.000000</td>\n",
              "      <td>0.000000</td>\n",
              "      <td>0.000000</td>\n",
              "      <td>0.000000</td>\n",
              "      <td>0.000000</td>\n",
              "      <td>0.000000</td>\n",
              "      <td>0.000000</td>\n",
              "      <td>0.000000</td>\n",
              "      <td>0.000000</td>\n",
              "      <td>0.000000</td>\n",
              "      <td>0.000000</td>\n",
              "      <td>0.000000</td>\n",
              "      <td>78.000000</td>\n",
              "      <td>0.000000</td>\n",
              "      <td>0.000000</td>\n",
              "      <td>0.000000</td>\n",
              "      <td>0.000000</td>\n",
              "      <td>0.000000</td>\n",
              "      <td>0.460000</td>\n",
              "      <td>5.000000</td>\n",
              "      <td>287.000000</td>\n",
              "      <td>67.000000</td>\n",
              "      <td>0.080000</td>\n",
              "      <td>3.000000</td>\n",
              "      <td>0.000000</td>\n",
              "      <td>4.000000</td>\n",
              "      <td>1.000000</td>\n",
              "      <td>0.000000</td>\n",
              "      <td>1.000000</td>\n",
              "      <td>0.000000</td>\n",
              "      <td>0.000000</td>\n",
              "      <td>18.500000</td>\n",
              "      <td>25.0500</td>\n",
              "      <td>0.000000</td>\n",
              "      <td>1.000000</td>\n",
              "      <td>0.000000</td>\n",
              "      <td>0.000000</td>\n",
              "      <td>0.000000</td>\n",
              "      <td>1.0</td>\n",
              "      <td>0.000000</td>\n",
              "      <td>0.000000</td>\n",
              "      <td>0.000000</td>\n",
              "      <td>0.000000</td>\n",
              "      <td>0.000000</td>\n",
              "      <td>0.000000</td>\n",
              "      <td>0.000000</td>\n",
              "      <td>0.000000</td>\n",
              "      <td>0.000000</td>\n",
              "      <td>0.000000</td>\n",
              "      <td>0.000000</td>\n",
              "      <td>0.000000</td>\n",
              "      <td>0.000000</td>\n",
              "      <td>0.000000</td>\n",
              "      <td>0.000000</td>\n",
              "      <td>0.000000</td>\n",
              "      <td>0.000000</td>\n",
              "      <td>0.000000</td>\n",
              "      <td>0.000000</td>\n",
              "      <td>1.000000</td>\n",
              "    </tr>\n",
              "    <tr>\n",
              "      <th>50%</th>\n",
              "      <td>3.00000</td>\n",
              "      <td>263.000000</td>\n",
              "      <td>0.000000</td>\n",
              "      <td>92.000000</td>\n",
              "      <td>0.160000</td>\n",
              "      <td>0.000000</td>\n",
              "      <td>0.000000</td>\n",
              "      <td>0.040000</td>\n",
              "      <td>0.040000</td>\n",
              "      <td>0.000000</td>\n",
              "      <td>0.000000</td>\n",
              "      <td>0.000000</td>\n",
              "      <td>0.000000</td>\n",
              "      <td>0.000000</td>\n",
              "      <td>0.000000</td>\n",
              "      <td>0.000000</td>\n",
              "      <td>0.000000</td>\n",
              "      <td>0.000000</td>\n",
              "      <td>0.000000</td>\n",
              "      <td>0.000000</td>\n",
              "      <td>0.000000</td>\n",
              "      <td>148.740000</td>\n",
              "      <td>0.000000</td>\n",
              "      <td>0.000000</td>\n",
              "      <td>0.000000</td>\n",
              "      <td>107.000000</td>\n",
              "      <td>0.000000</td>\n",
              "      <td>0.550000</td>\n",
              "      <td>12.000000</td>\n",
              "      <td>447.000000</td>\n",
              "      <td>125.200000</td>\n",
              "      <td>0.180000</td>\n",
              "      <td>6.000000</td>\n",
              "      <td>0.000000</td>\n",
              "      <td>9.000000</td>\n",
              "      <td>2.000000</td>\n",
              "      <td>0.000000</td>\n",
              "      <td>4.000000</td>\n",
              "      <td>0.000000</td>\n",
              "      <td>0.000000</td>\n",
              "      <td>29.650000</td>\n",
              "      <td>52.0000</td>\n",
              "      <td>0.000000</td>\n",
              "      <td>1.000000</td>\n",
              "      <td>0.000000</td>\n",
              "      <td>0.000000</td>\n",
              "      <td>0.000000</td>\n",
              "      <td>1.0</td>\n",
              "      <td>0.000000</td>\n",
              "      <td>0.000000</td>\n",
              "      <td>0.000000</td>\n",
              "      <td>1.000000</td>\n",
              "      <td>0.000000</td>\n",
              "      <td>0.000000</td>\n",
              "      <td>1.000000</td>\n",
              "      <td>1.000000</td>\n",
              "      <td>0.000000</td>\n",
              "      <td>0.000000</td>\n",
              "      <td>0.000000</td>\n",
              "      <td>0.000000</td>\n",
              "      <td>0.000000</td>\n",
              "      <td>0.000000</td>\n",
              "      <td>0.000000</td>\n",
              "      <td>0.000000</td>\n",
              "      <td>0.000000</td>\n",
              "      <td>0.000000</td>\n",
              "      <td>0.000000</td>\n",
              "      <td>1.000000</td>\n",
              "    </tr>\n",
              "    <tr>\n",
              "      <th>75%</th>\n",
              "      <td>6.00000</td>\n",
              "      <td>567.040000</td>\n",
              "      <td>1.000000</td>\n",
              "      <td>139.500000</td>\n",
              "      <td>0.310000</td>\n",
              "      <td>0.030000</td>\n",
              "      <td>0.020000</td>\n",
              "      <td>0.140000</td>\n",
              "      <td>0.230000</td>\n",
              "      <td>0.130000</td>\n",
              "      <td>0.090000</td>\n",
              "      <td>0.100000</td>\n",
              "      <td>0.060000</td>\n",
              "      <td>0.000000</td>\n",
              "      <td>0.000000</td>\n",
              "      <td>0.000000</td>\n",
              "      <td>0.030000</td>\n",
              "      <td>0.003567</td>\n",
              "      <td>0.030000</td>\n",
              "      <td>0.000000</td>\n",
              "      <td>127.480000</td>\n",
              "      <td>324.770000</td>\n",
              "      <td>0.000000</td>\n",
              "      <td>109.480000</td>\n",
              "      <td>0.000000</td>\n",
              "      <td>283.940000</td>\n",
              "      <td>0.000000</td>\n",
              "      <td>0.620000</td>\n",
              "      <td>17.000000</td>\n",
              "      <td>627.000000</td>\n",
              "      <td>232.000000</td>\n",
              "      <td>0.280000</td>\n",
              "      <td>10.000000</td>\n",
              "      <td>1.000000</td>\n",
              "      <td>20.000000</td>\n",
              "      <td>3.000000</td>\n",
              "      <td>0.000000</td>\n",
              "      <td>8.000000</td>\n",
              "      <td>2.000000</td>\n",
              "      <td>30.000000</td>\n",
              "      <td>50.000000</td>\n",
              "      <td>107.6000</td>\n",
              "      <td>0.090000</td>\n",
              "      <td>1.000000</td>\n",
              "      <td>0.000000</td>\n",
              "      <td>0.000000</td>\n",
              "      <td>1.000000</td>\n",
              "      <td>1.0</td>\n",
              "      <td>0.000000</td>\n",
              "      <td>1.000000</td>\n",
              "      <td>1.000000</td>\n",
              "      <td>1.000000</td>\n",
              "      <td>1.000000</td>\n",
              "      <td>1.000000</td>\n",
              "      <td>1.000000</td>\n",
              "      <td>1.000000</td>\n",
              "      <td>1.000000</td>\n",
              "      <td>1.000000</td>\n",
              "      <td>1.000000</td>\n",
              "      <td>1.000000</td>\n",
              "      <td>0.000000</td>\n",
              "      <td>0.000000</td>\n",
              "      <td>0.000000</td>\n",
              "      <td>1.000000</td>\n",
              "      <td>1.000000</td>\n",
              "      <td>1.000000</td>\n",
              "      <td>1.000000</td>\n",
              "      <td>1.000000</td>\n",
              "    </tr>\n",
              "    <tr>\n",
              "      <th>max</th>\n",
              "      <td>115.00000</td>\n",
              "      <td>22511.490000</td>\n",
              "      <td>1.000000</td>\n",
              "      <td>1919.880000</td>\n",
              "      <td>1.000000</td>\n",
              "      <td>1.000000</td>\n",
              "      <td>1.000000</td>\n",
              "      <td>1.000000</td>\n",
              "      <td>1.000000</td>\n",
              "      <td>1.000000</td>\n",
              "      <td>1.000000</td>\n",
              "      <td>1.000000</td>\n",
              "      <td>1.000000</td>\n",
              "      <td>1.000000</td>\n",
              "      <td>1.000000</td>\n",
              "      <td>1.000000</td>\n",
              "      <td>1.000000</td>\n",
              "      <td>1.000000</td>\n",
              "      <td>1.000000</td>\n",
              "      <td>4478.790000</td>\n",
              "      <td>11476.800000</td>\n",
              "      <td>22511.490000</td>\n",
              "      <td>4099.920000</td>\n",
              "      <td>5562.460000</td>\n",
              "      <td>2189.000000</td>\n",
              "      <td>13224.070000</td>\n",
              "      <td>2259.500000</td>\n",
              "      <td>0.990000</td>\n",
              "      <td>38.000000</td>\n",
              "      <td>713.000000</td>\n",
              "      <td>713.000000</td>\n",
              "      <td>0.910000</td>\n",
              "      <td>35.000000</td>\n",
              "      <td>32.000000</td>\n",
              "      <td>743.000000</td>\n",
              "      <td>19.000000</td>\n",
              "      <td>1.000000</td>\n",
              "      <td>11.000000</td>\n",
              "      <td>11.000000</td>\n",
              "      <td>100.000000</td>\n",
              "      <td>200.000000</td>\n",
              "      <td>364.0000</td>\n",
              "      <td>38.380000</td>\n",
              "      <td>1.000000</td>\n",
              "      <td>1.000000</td>\n",
              "      <td>1.000000</td>\n",
              "      <td>1.000000</td>\n",
              "      <td>1.0</td>\n",
              "      <td>1.000000</td>\n",
              "      <td>1.000000</td>\n",
              "      <td>1.000000</td>\n",
              "      <td>1.000000</td>\n",
              "      <td>1.000000</td>\n",
              "      <td>1.000000</td>\n",
              "      <td>1.000000</td>\n",
              "      <td>1.000000</td>\n",
              "      <td>1.000000</td>\n",
              "      <td>1.000000</td>\n",
              "      <td>1.000000</td>\n",
              "      <td>1.000000</td>\n",
              "      <td>1.000000</td>\n",
              "      <td>1.000000</td>\n",
              "      <td>1.000000</td>\n",
              "      <td>1.000000</td>\n",
              "      <td>1.000000</td>\n",
              "      <td>1.000000</td>\n",
              "      <td>1.000000</td>\n",
              "      <td>1.000000</td>\n",
              "    </tr>\n",
              "  </tbody>\n",
              "</table>\n",
              "</div>"
            ],
            "text/plain": [
              "               FRE           MON  ...      i_RECENT       i_SAVER\n",
              "count  15217.00000  15217.000000  ...  15217.000000  15217.000000\n",
              "mean       5.06565    471.125266  ...      0.457186      0.869554\n",
              "std        6.42875    632.320458  ...      0.498180      0.336805\n",
              "min        1.00000      0.990000  ...      0.000000      0.000000\n",
              "25%        1.00000    135.000000  ...      0.000000      1.000000\n",
              "50%        3.00000    263.000000  ...      0.000000      1.000000\n",
              "75%        6.00000    567.040000  ...      1.000000      1.000000\n",
              "max      115.00000  22511.490000  ...      1.000000      1.000000\n",
              "\n",
              "[8 rows x 68 columns]"
            ]
          },
          "metadata": {
            "tags": []
          },
          "execution_count": 6
        }
      ]
    },
    {
      "cell_type": "markdown",
      "metadata": {
        "id": "dvB5LFlEPgGn"
      },
      "source": [
        "#### 1.2 Standardizing data (5 points)\n",
        "\n",
        "Listed below are continuous features or variables that need to be standardized.\n",
        "\n",
        "`PERCENT_VARS`: 15 variables providing the percentages spent by the customer on specific classes of clothing, including sweaters, knit tops, knit dresses, blouses, jackets, career pants, casual pants, shirts, dresses, suits, outerwear, jewelry, fashion, legwear, and the collectibles line(`P*`, `PJACKETS` for example)\n",
        "\n",
        "`ZERO_IMPORTANT_VARS`: These are columns where the existence or lack thereof of a zero may be important in a classifier. We used our intuition to make these choices, believing that there is additional information encoded in having zeroes vs non-zeroes\n",
        "\n",
        "`STANDARDIZABLE`: These are continuous columns(features) that need to be brought to the same scale. They include `PERCENT_VARS` and `ZERO_IMPORTANT_VARS` and a few other columns as well"
      ]
    },
    {
      "cell_type": "code",
      "metadata": {
        "id": "31kDqBbOPgGn"
      },
      "source": [
        "# Run this cell to get the Standardizable features\n",
        "\n",
        "PERCENT_VARS=[ u'PSWEATERS', u'PKNIT_TOPS', u'PKNIT_DRES', u'PBLOUSES', u'PJACKETS', u'PCAR_PNTS', u'PCAS_PNTS', u'PSHIRTS', \n",
        "              u'PDRESSES', u'PSUITS', u'POUTERWEAR', u'PJEWELRY', u'PFASHION', u'PLEGWEAR', u'PCOLLSPND']\n",
        "ZERO_IMPORTANT_VARS = [u'PREVPD', u'AMSPEND', u'PSSPEND', u'CCSPEND', u'AXSPEND', u'RESPONDED', u'PERCRET']\n",
        "STANDARDIZABLE = PERCENT_VARS + ZERO_IMPORTANT_VARS + [u'FRE', u'MON',  u'AVRG', u'GMP', u'PROMOS', u'DAYS', u'FREDAYS', u'MARKDOWN', u'CLASSES', u'COUPONS', u'STYLES',  u'MAILED',  u'RESPONSERATE', u'HI', u'LTFREDAY']"
      ],
      "execution_count": null,
      "outputs": []
    },
    {
      "cell_type": "markdown",
      "metadata": {
        "id": "eXWCG06cPgGo"
      },
      "source": [
        "**1.2 a) Use `StandardScaler` from `sklearn.preprocessing` to \"fit\" the columns in `STANDRARDIZABLE` on the training set. Then use the resultant estimator to transform both the training and the test parts of each of the columns in the dataframe, replacing the old unstandardized values in the `STANDARDIZABLE` columns of `dftouse` by the new standardized ones.**"
      ]
    },
    {
      "cell_type": "code",
      "metadata": {
        "id": "tQzNMfPMPgGp",
        "colab": {
          "base_uri": "https://localhost:8080/"
        },
        "outputId": "7c44d58c-56de-43f1-d127-bee4e60c4981"
      },
      "source": [
        "#your code here\r\n",
        "#I standardized the data at first to do the HW in a straightforward way, but after one of Professor's lectures, where he mentioned\r\n",
        "#about grid search CV leaking validatation info into the train set if standardization is done earlier, I tried to do the scaling \r\n",
        "#in the pipeline only. It is done below. \r\n",
        "\r\n",
        "\r\n",
        "#X_standard=X_train[STANDARDIZABLE]\r\n",
        "#scaler=StandardScaler()\r\n",
        "#scaler.fit(X_standard)\r\n",
        "#X_train[STANDARDIZABLE]=scaler.transform(X_train[STANDARDIZABLE])\r\n",
        "#X_test[STANDARDIZABLE]=scaler.transform(X_test[STANDARDIZABLE])"
      ],
      "execution_count": null,
      "outputs": [
        {
          "output_type": "execute_result",
          "data": {
            "text/plain": [
              "StandardScaler(copy=True, with_mean=True, with_std=True)"
            ]
          },
          "metadata": {
            "tags": []
          },
          "execution_count": 47
        }
      ]
    },
    {
      "cell_type": "code",
      "metadata": {
        "colab": {
          "base_uri": "https://localhost:8080/",
          "height": 320
        },
        "id": "0CsexB-WN5lB",
        "outputId": "7aee89c4-e457-4932-a461-1f5587fef7ad"
      },
      "source": [
        "#X_train.describe()\r\n",
        "#The results here was for an earlier run when the standardization was done before CV"
      ],
      "execution_count": null,
      "outputs": [
        {
          "output_type": "execute_result",
          "data": {
            "text/html": [
              "<div>\n",
              "<style scoped>\n",
              "    .dataframe tbody tr th:only-of-type {\n",
              "        vertical-align: middle;\n",
              "    }\n",
              "\n",
              "    .dataframe tbody tr th {\n",
              "        vertical-align: top;\n",
              "    }\n",
              "\n",
              "    .dataframe thead th {\n",
              "        text-align: right;\n",
              "    }\n",
              "</style>\n",
              "<table border=\"1\" class=\"dataframe\">\n",
              "  <thead>\n",
              "    <tr style=\"text-align: right;\">\n",
              "      <th></th>\n",
              "      <th>FRE</th>\n",
              "      <th>MON</th>\n",
              "      <th>i_CC_CARD</th>\n",
              "      <th>AVRG</th>\n",
              "      <th>PSWEATERS</th>\n",
              "      <th>PKNIT_TOPS</th>\n",
              "      <th>PKNIT_DRES</th>\n",
              "      <th>PBLOUSES</th>\n",
              "      <th>PJACKETS</th>\n",
              "      <th>PCAR_PNTS</th>\n",
              "      <th>PCAS_PNTS</th>\n",
              "      <th>PSHIRTS</th>\n",
              "      <th>PDRESSES</th>\n",
              "      <th>PSUITS</th>\n",
              "      <th>POUTERWEAR</th>\n",
              "      <th>PJEWELRY</th>\n",
              "      <th>PFASHION</th>\n",
              "      <th>PLEGWEAR</th>\n",
              "      <th>PCOLLSPND</th>\n",
              "      <th>AMSPEND</th>\n",
              "      <th>PSSPEND</th>\n",
              "      <th>CCSPEND</th>\n",
              "      <th>AXSPEND</th>\n",
              "      <th>TMONSPEND</th>\n",
              "      <th>OMONSPEND</th>\n",
              "      <th>SMONSPEND</th>\n",
              "      <th>PREVPD</th>\n",
              "      <th>GMP</th>\n",
              "      <th>PROMOS</th>\n",
              "      <th>DAYS</th>\n",
              "      <th>FREDAYS</th>\n",
              "      <th>MARKDOWN</th>\n",
              "      <th>CLASSES</th>\n",
              "      <th>COUPONS</th>\n",
              "      <th>STYLES</th>\n",
              "      <th>STORES</th>\n",
              "      <th>i_WEB</th>\n",
              "      <th>MAILED</th>\n",
              "      <th>RESPONDED</th>\n",
              "      <th>RESPONSERATE</th>\n",
              "      <th>HI</th>\n",
              "      <th>LTFREDAY</th>\n",
              "      <th>PERCRET</th>\n",
              "      <th>i_VALPHON</th>\n",
              "      <th>i_PREVPD</th>\n",
              "      <th>i_AMSPEND</th>\n",
              "      <th>i_PSSPEND</th>\n",
              "      <th>i_CCSPEND</th>\n",
              "      <th>i_AXSPEND</th>\n",
              "      <th>i_RESPONDED</th>\n",
              "      <th>i_PERCRET</th>\n",
              "      <th>i_PSWEATERS</th>\n",
              "      <th>i_PKNIT_TOPS</th>\n",
              "      <th>i_PKNIT_DRES</th>\n",
              "      <th>i_PBLOUSES</th>\n",
              "      <th>i_PJACKETS</th>\n",
              "      <th>i_PCAR_PNTS</th>\n",
              "      <th>i_PCAS_PNTS</th>\n",
              "      <th>i_PSHIRTS</th>\n",
              "      <th>i_PDRESSES</th>\n",
              "      <th>i_PSUITS</th>\n",
              "      <th>i_POUTERWEAR</th>\n",
              "      <th>i_PJEWELRY</th>\n",
              "      <th>i_PFASHION</th>\n",
              "      <th>i_PLEGWEAR</th>\n",
              "      <th>i_PCOLLSPND</th>\n",
              "      <th>i_RECENT</th>\n",
              "      <th>i_SAVER</th>\n",
              "    </tr>\n",
              "  </thead>\n",
              "  <tbody>\n",
              "    <tr>\n",
              "      <th>count</th>\n",
              "      <td>1.521700e+04</td>\n",
              "      <td>1.521700e+04</td>\n",
              "      <td>15217.000000</td>\n",
              "      <td>1.521700e+04</td>\n",
              "      <td>1.521700e+04</td>\n",
              "      <td>1.521700e+04</td>\n",
              "      <td>1.521700e+04</td>\n",
              "      <td>1.521700e+04</td>\n",
              "      <td>1.521700e+04</td>\n",
              "      <td>1.521700e+04</td>\n",
              "      <td>1.521700e+04</td>\n",
              "      <td>1.521700e+04</td>\n",
              "      <td>1.521700e+04</td>\n",
              "      <td>1.521700e+04</td>\n",
              "      <td>1.521700e+04</td>\n",
              "      <td>1.521700e+04</td>\n",
              "      <td>1.521700e+04</td>\n",
              "      <td>1.521700e+04</td>\n",
              "      <td>1.521700e+04</td>\n",
              "      <td>1.521700e+04</td>\n",
              "      <td>1.521700e+04</td>\n",
              "      <td>1.521700e+04</td>\n",
              "      <td>1.521700e+04</td>\n",
              "      <td>15217.000000</td>\n",
              "      <td>15217.000000</td>\n",
              "      <td>15217.000000</td>\n",
              "      <td>1.521700e+04</td>\n",
              "      <td>1.521700e+04</td>\n",
              "      <td>1.521700e+04</td>\n",
              "      <td>1.521700e+04</td>\n",
              "      <td>1.521700e+04</td>\n",
              "      <td>1.521700e+04</td>\n",
              "      <td>1.521700e+04</td>\n",
              "      <td>1.521700e+04</td>\n",
              "      <td>1.521700e+04</td>\n",
              "      <td>15217.000000</td>\n",
              "      <td>15217.000000</td>\n",
              "      <td>1.521700e+04</td>\n",
              "      <td>1.521700e+04</td>\n",
              "      <td>1.521700e+04</td>\n",
              "      <td>1.521700e+04</td>\n",
              "      <td>1.521700e+04</td>\n",
              "      <td>1.521700e+04</td>\n",
              "      <td>15217.000000</td>\n",
              "      <td>15217.000000</td>\n",
              "      <td>15217.000000</td>\n",
              "      <td>15217.000000</td>\n",
              "      <td>15217.0</td>\n",
              "      <td>15217.000000</td>\n",
              "      <td>15217.000000</td>\n",
              "      <td>15217.00000</td>\n",
              "      <td>15217.000000</td>\n",
              "      <td>15217.000000</td>\n",
              "      <td>15217.000000</td>\n",
              "      <td>15217.000000</td>\n",
              "      <td>15217.000000</td>\n",
              "      <td>15217.000000</td>\n",
              "      <td>15217.000000</td>\n",
              "      <td>15217.000000</td>\n",
              "      <td>15217.000000</td>\n",
              "      <td>15217.000000</td>\n",
              "      <td>15217.000000</td>\n",
              "      <td>15217.000000</td>\n",
              "      <td>15217.000000</td>\n",
              "      <td>15217.000000</td>\n",
              "      <td>15217.000000</td>\n",
              "      <td>15217.000000</td>\n",
              "      <td>15217.000000</td>\n",
              "    </tr>\n",
              "    <tr>\n",
              "      <th>mean</th>\n",
              "      <td>-1.700829e-16</td>\n",
              "      <td>4.794891e-17</td>\n",
              "      <td>0.379313</td>\n",
              "      <td>-1.190715e-16</td>\n",
              "      <td>1.572275e-16</td>\n",
              "      <td>-4.020208e-16</td>\n",
              "      <td>5.118685e-16</td>\n",
              "      <td>-6.112173e-17</td>\n",
              "      <td>2.329265e-16</td>\n",
              "      <td>3.670076e-16</td>\n",
              "      <td>-5.178293e-16</td>\n",
              "      <td>8.365524e-17</td>\n",
              "      <td>1.196573e-15</td>\n",
              "      <td>4.271480e-16</td>\n",
              "      <td>1.993506e-16</td>\n",
              "      <td>7.337599e-16</td>\n",
              "      <td>1.176207e-15</td>\n",
              "      <td>6.702469e-16</td>\n",
              "      <td>-5.530030e-16</td>\n",
              "      <td>-3.430605e-16</td>\n",
              "      <td>-4.104987e-16</td>\n",
              "      <td>8.298401e-17</td>\n",
              "      <td>2.258969e-16</td>\n",
              "      <td>89.666815</td>\n",
              "      <td>31.764569</td>\n",
              "      <td>221.984131</td>\n",
              "      <td>-1.478741e-16</td>\n",
              "      <td>-1.691363e-16</td>\n",
              "      <td>-2.700665e-16</td>\n",
              "      <td>1.439051e-16</td>\n",
              "      <td>-1.183328e-16</td>\n",
              "      <td>1.730597e-17</td>\n",
              "      <td>-3.645051e-16</td>\n",
              "      <td>6.956240e-16</td>\n",
              "      <td>-1.557537e-16</td>\n",
              "      <td>2.329171</td>\n",
              "      <td>0.040481</td>\n",
              "      <td>-9.165158e-17</td>\n",
              "      <td>-3.158558e-16</td>\n",
              "      <td>1.202079e-16</td>\n",
              "      <td>-2.736707e-16</td>\n",
              "      <td>9.311077e-17</td>\n",
              "      <td>3.448571e-16</td>\n",
              "      <td>0.858645</td>\n",
              "      <td>0.238418</td>\n",
              "      <td>0.049484</td>\n",
              "      <td>0.440494</td>\n",
              "      <td>1.0</td>\n",
              "      <td>0.133403</td>\n",
              "      <td>0.458172</td>\n",
              "      <td>0.33410</td>\n",
              "      <td>0.739042</td>\n",
              "      <td>0.370112</td>\n",
              "      <td>0.307419</td>\n",
              "      <td>0.579681</td>\n",
              "      <td>0.517710</td>\n",
              "      <td>0.463363</td>\n",
              "      <td>0.424262</td>\n",
              "      <td>0.435894</td>\n",
              "      <td>0.337517</td>\n",
              "      <td>0.114149</td>\n",
              "      <td>0.075705</td>\n",
              "      <td>0.218703</td>\n",
              "      <td>0.343957</td>\n",
              "      <td>0.258921</td>\n",
              "      <td>0.262732</td>\n",
              "      <td>0.456135</td>\n",
              "      <td>0.869094</td>\n",
              "    </tr>\n",
              "    <tr>\n",
              "      <th>std</th>\n",
              "      <td>1.000033e+00</td>\n",
              "      <td>1.000033e+00</td>\n",
              "      <td>0.485232</td>\n",
              "      <td>1.000033e+00</td>\n",
              "      <td>1.000033e+00</td>\n",
              "      <td>1.000033e+00</td>\n",
              "      <td>1.000033e+00</td>\n",
              "      <td>1.000033e+00</td>\n",
              "      <td>1.000033e+00</td>\n",
              "      <td>1.000033e+00</td>\n",
              "      <td>1.000033e+00</td>\n",
              "      <td>1.000033e+00</td>\n",
              "      <td>1.000033e+00</td>\n",
              "      <td>1.000033e+00</td>\n",
              "      <td>1.000033e+00</td>\n",
              "      <td>1.000033e+00</td>\n",
              "      <td>1.000033e+00</td>\n",
              "      <td>1.000033e+00</td>\n",
              "      <td>1.000033e+00</td>\n",
              "      <td>1.000033e+00</td>\n",
              "      <td>1.000033e+00</td>\n",
              "      <td>1.000033e+00</td>\n",
              "      <td>1.000033e+00</td>\n",
              "      <td>182.809184</td>\n",
              "      <td>97.136763</td>\n",
              "      <td>351.821231</td>\n",
              "      <td>1.000033e+00</td>\n",
              "      <td>1.000033e+00</td>\n",
              "      <td>1.000033e+00</td>\n",
              "      <td>1.000033e+00</td>\n",
              "      <td>1.000033e+00</td>\n",
              "      <td>1.000033e+00</td>\n",
              "      <td>1.000033e+00</td>\n",
              "      <td>1.000033e+00</td>\n",
              "      <td>1.000033e+00</td>\n",
              "      <td>1.589310</td>\n",
              "      <td>0.197091</td>\n",
              "      <td>1.000033e+00</td>\n",
              "      <td>1.000033e+00</td>\n",
              "      <td>1.000033e+00</td>\n",
              "      <td>1.000033e+00</td>\n",
              "      <td>1.000033e+00</td>\n",
              "      <td>1.000033e+00</td>\n",
              "      <td>0.348399</td>\n",
              "      <td>0.426130</td>\n",
              "      <td>0.216884</td>\n",
              "      <td>0.496463</td>\n",
              "      <td>0.0</td>\n",
              "      <td>0.340021</td>\n",
              "      <td>0.498264</td>\n",
              "      <td>0.47169</td>\n",
              "      <td>0.439172</td>\n",
              "      <td>0.482850</td>\n",
              "      <td>0.461440</td>\n",
              "      <td>0.493626</td>\n",
              "      <td>0.499703</td>\n",
              "      <td>0.498672</td>\n",
              "      <td>0.494247</td>\n",
              "      <td>0.495890</td>\n",
              "      <td>0.472878</td>\n",
              "      <td>0.318002</td>\n",
              "      <td>0.264534</td>\n",
              "      <td>0.413380</td>\n",
              "      <td>0.475043</td>\n",
              "      <td>0.438057</td>\n",
              "      <td>0.440133</td>\n",
              "      <td>0.498088</td>\n",
              "      <td>0.337309</td>\n",
              "    </tr>\n",
              "    <tr>\n",
              "      <th>min</th>\n",
              "      <td>-6.278516e-01</td>\n",
              "      <td>-7.500395e-01</td>\n",
              "      <td>0.000000</td>\n",
              "      <td>-1.277300e+00</td>\n",
              "      <td>-9.277706e-01</td>\n",
              "      <td>-3.966291e-01</td>\n",
              "      <td>-3.752422e-01</td>\n",
              "      <td>-6.867030e-01</td>\n",
              "      <td>-7.412600e-01</td>\n",
              "      <td>-6.188926e-01</td>\n",
              "      <td>-5.234340e-01</td>\n",
              "      <td>-5.638871e-01</td>\n",
              "      <td>-4.384807e-01</td>\n",
              "      <td>-2.590638e-01</td>\n",
              "      <td>-1.839881e-01</td>\n",
              "      <td>-2.576791e-01</td>\n",
              "      <td>-3.763080e-01</td>\n",
              "      <td>-2.646061e-01</td>\n",
              "      <td>-4.185013e-01</td>\n",
              "      <td>-1.009133e-01</td>\n",
              "      <td>-3.687047e-01</td>\n",
              "      <td>-6.913668e-01</td>\n",
              "      <td>-2.151131e-01</td>\n",
              "      <td>0.000000</td>\n",
              "      <td>0.000000</td>\n",
              "      <td>0.000000</td>\n",
              "      <td>-3.782237e-01</td>\n",
              "      <td>-3.657047e+00</td>\n",
              "      <td>-1.624620e+00</td>\n",
              "      <td>-2.261330e+00</td>\n",
              "      <td>-1.164653e+00</td>\n",
              "      <td>-1.438969e+00</td>\n",
              "      <td>-1.149457e+00</td>\n",
              "      <td>-4.477375e-01</td>\n",
              "      <td>-6.561068e-01</td>\n",
              "      <td>1.000000</td>\n",
              "      <td>0.000000</td>\n",
              "      <td>-1.316465e+00</td>\n",
              "      <td>-6.487348e-01</td>\n",
              "      <td>-6.985392e-01</td>\n",
              "      <td>-1.342935e+00</td>\n",
              "      <td>-1.023310e+00</td>\n",
              "      <td>-2.105801e-01</td>\n",
              "      <td>0.000000</td>\n",
              "      <td>0.000000</td>\n",
              "      <td>0.000000</td>\n",
              "      <td>0.000000</td>\n",
              "      <td>1.0</td>\n",
              "      <td>0.000000</td>\n",
              "      <td>0.000000</td>\n",
              "      <td>0.00000</td>\n",
              "      <td>0.000000</td>\n",
              "      <td>0.000000</td>\n",
              "      <td>0.000000</td>\n",
              "      <td>0.000000</td>\n",
              "      <td>0.000000</td>\n",
              "      <td>0.000000</td>\n",
              "      <td>0.000000</td>\n",
              "      <td>0.000000</td>\n",
              "      <td>0.000000</td>\n",
              "      <td>0.000000</td>\n",
              "      <td>0.000000</td>\n",
              "      <td>0.000000</td>\n",
              "      <td>0.000000</td>\n",
              "      <td>0.000000</td>\n",
              "      <td>0.000000</td>\n",
              "      <td>0.000000</td>\n",
              "      <td>0.000000</td>\n",
              "    </tr>\n",
              "    <tr>\n",
              "      <th>25%</th>\n",
              "      <td>-6.278516e-01</td>\n",
              "      <td>-5.374713e-01</td>\n",
              "      <td>0.000000</td>\n",
              "      <td>-5.980660e-01</td>\n",
              "      <td>-9.277706e-01</td>\n",
              "      <td>-3.966291e-01</td>\n",
              "      <td>-3.752422e-01</td>\n",
              "      <td>-6.867030e-01</td>\n",
              "      <td>-7.412600e-01</td>\n",
              "      <td>-6.188926e-01</td>\n",
              "      <td>-5.234340e-01</td>\n",
              "      <td>-5.638871e-01</td>\n",
              "      <td>-4.384807e-01</td>\n",
              "      <td>-2.590638e-01</td>\n",
              "      <td>-1.839881e-01</td>\n",
              "      <td>-2.576791e-01</td>\n",
              "      <td>-3.763080e-01</td>\n",
              "      <td>-2.646061e-01</td>\n",
              "      <td>-4.185013e-01</td>\n",
              "      <td>-1.009133e-01</td>\n",
              "      <td>-3.687047e-01</td>\n",
              "      <td>-5.024115e-01</td>\n",
              "      <td>-2.151131e-01</td>\n",
              "      <td>0.000000</td>\n",
              "      <td>0.000000</td>\n",
              "      <td>0.000000</td>\n",
              "      <td>-3.782237e-01</td>\n",
              "      <td>-4.345731e-01</td>\n",
              "      <td>-9.212160e-01</td>\n",
              "      <td>-7.763917e-01</td>\n",
              "      <td>-7.119781e-01</td>\n",
              "      <td>-8.198442e-01</td>\n",
              "      <td>-7.729483e-01</td>\n",
              "      <td>-4.477375e-01</td>\n",
              "      <td>-5.335012e-01</td>\n",
              "      <td>1.000000</td>\n",
              "      <td>0.000000</td>\n",
              "      <td>-1.033909e+00</td>\n",
              "      <td>-6.487348e-01</td>\n",
              "      <td>-6.985392e-01</td>\n",
              "      <td>-6.906487e-01</td>\n",
              "      <td>-7.035693e-01</td>\n",
              "      <td>-2.105801e-01</td>\n",
              "      <td>1.000000</td>\n",
              "      <td>0.000000</td>\n",
              "      <td>0.000000</td>\n",
              "      <td>0.000000</td>\n",
              "      <td>1.0</td>\n",
              "      <td>0.000000</td>\n",
              "      <td>0.000000</td>\n",
              "      <td>0.00000</td>\n",
              "      <td>0.000000</td>\n",
              "      <td>0.000000</td>\n",
              "      <td>0.000000</td>\n",
              "      <td>0.000000</td>\n",
              "      <td>0.000000</td>\n",
              "      <td>0.000000</td>\n",
              "      <td>0.000000</td>\n",
              "      <td>0.000000</td>\n",
              "      <td>0.000000</td>\n",
              "      <td>0.000000</td>\n",
              "      <td>0.000000</td>\n",
              "      <td>0.000000</td>\n",
              "      <td>0.000000</td>\n",
              "      <td>0.000000</td>\n",
              "      <td>0.000000</td>\n",
              "      <td>0.000000</td>\n",
              "      <td>1.000000</td>\n",
              "    </tr>\n",
              "    <tr>\n",
              "      <th>50%</th>\n",
              "      <td>-3.151024e-01</td>\n",
              "      <td>-3.316437e-01</td>\n",
              "      <td>0.000000</td>\n",
              "      <td>-2.478761e-01</td>\n",
              "      <td>-2.330591e-01</td>\n",
              "      <td>-3.966291e-01</td>\n",
              "      <td>-3.752422e-01</td>\n",
              "      <td>-3.893447e-01</td>\n",
              "      <td>-5.248968e-01</td>\n",
              "      <td>-6.188926e-01</td>\n",
              "      <td>-5.234340e-01</td>\n",
              "      <td>-5.638871e-01</td>\n",
              "      <td>-4.384807e-01</td>\n",
              "      <td>-2.590638e-01</td>\n",
              "      <td>-1.839881e-01</td>\n",
              "      <td>-2.576791e-01</td>\n",
              "      <td>-3.763080e-01</td>\n",
              "      <td>-2.646061e-01</td>\n",
              "      <td>-4.185013e-01</td>\n",
              "      <td>-1.009133e-01</td>\n",
              "      <td>-3.687047e-01</td>\n",
              "      <td>-3.352616e-01</td>\n",
              "      <td>-2.151131e-01</td>\n",
              "      <td>0.000000</td>\n",
              "      <td>0.000000</td>\n",
              "      <td>108.000000</td>\n",
              "      <td>-3.782237e-01</td>\n",
              "      <td>1.959109e-01</td>\n",
              "      <td>6.354999e-02</td>\n",
              "      <td>3.876685e-02</td>\n",
              "      <td>-3.137991e-01</td>\n",
              "      <td>-4.593769e-02</td>\n",
              "      <td>-2.081847e-01</td>\n",
              "      <td>-4.477375e-01</td>\n",
              "      <td>-3.291585e-01</td>\n",
              "      <td>2.000000</td>\n",
              "      <td>0.000000</td>\n",
              "      <td>-1.862414e-01</td>\n",
              "      <td>-6.487348e-01</td>\n",
              "      <td>-6.985392e-01</td>\n",
              "      <td>-2.974413e-01</td>\n",
              "      <td>-3.575323e-01</td>\n",
              "      <td>-2.105801e-01</td>\n",
              "      <td>1.000000</td>\n",
              "      <td>0.000000</td>\n",
              "      <td>0.000000</td>\n",
              "      <td>0.000000</td>\n",
              "      <td>1.0</td>\n",
              "      <td>0.000000</td>\n",
              "      <td>0.000000</td>\n",
              "      <td>0.00000</td>\n",
              "      <td>1.000000</td>\n",
              "      <td>0.000000</td>\n",
              "      <td>0.000000</td>\n",
              "      <td>1.000000</td>\n",
              "      <td>1.000000</td>\n",
              "      <td>0.000000</td>\n",
              "      <td>0.000000</td>\n",
              "      <td>0.000000</td>\n",
              "      <td>0.000000</td>\n",
              "      <td>0.000000</td>\n",
              "      <td>0.000000</td>\n",
              "      <td>0.000000</td>\n",
              "      <td>0.000000</td>\n",
              "      <td>0.000000</td>\n",
              "      <td>0.000000</td>\n",
              "      <td>0.000000</td>\n",
              "      <td>1.000000</td>\n",
              "    </tr>\n",
              "    <tr>\n",
              "      <th>75%</th>\n",
              "      <td>1.540213e-01</td>\n",
              "      <td>1.519217e-01</td>\n",
              "      <td>1.000000</td>\n",
              "      <td>2.834503e-01</td>\n",
              "      <td>4.182329e-01</td>\n",
              "      <td>4.126283e-02</td>\n",
              "      <td>-1.061503e-01</td>\n",
              "      <td>3.540510e-01</td>\n",
              "      <td>5.028282e-01</td>\n",
              "      <td>3.741579e-01</td>\n",
              "      <td>1.584564e-01</td>\n",
              "      <td>2.943379e-01</td>\n",
              "      <td>3.860366e-03</td>\n",
              "      <td>-2.590638e-01</td>\n",
              "      <td>-1.839881e-01</td>\n",
              "      <td>-2.576791e-01</td>\n",
              "      <td>-1.222788e-01</td>\n",
              "      <td>-2.082365e-01</td>\n",
              "      <td>-3.047289e-01</td>\n",
              "      <td>-1.009133e-01</td>\n",
              "      <td>-5.330427e-02</td>\n",
              "      <td>8.260115e-02</td>\n",
              "      <td>-2.151131e-01</td>\n",
              "      <td>108.000000</td>\n",
              "      <td>0.000000</td>\n",
              "      <td>284.950000</td>\n",
              "      <td>-3.782237e-01</td>\n",
              "      <td>6.862873e-01</td>\n",
              "      <td>7.669543e-01</td>\n",
              "      <td>9.889198e-01</td>\n",
              "      <td>3.972349e-01</td>\n",
              "      <td>7.279688e-01</td>\n",
              "      <td>5.448333e-01</td>\n",
              "      <td>1.544032e-01</td>\n",
              "      <td>1.203952e-01</td>\n",
              "      <td>3.000000</td>\n",
              "      <td>0.000000</td>\n",
              "      <td>9.439820e-01</td>\n",
              "      <td>4.483754e-01</td>\n",
              "      <td>4.660032e-01</td>\n",
              "      <td>4.215566e-01</td>\n",
              "      <td>3.347956e-01</td>\n",
              "      <td>-6.532051e-02</td>\n",
              "      <td>1.000000</td>\n",
              "      <td>0.000000</td>\n",
              "      <td>0.000000</td>\n",
              "      <td>1.000000</td>\n",
              "      <td>1.0</td>\n",
              "      <td>0.000000</td>\n",
              "      <td>1.000000</td>\n",
              "      <td>1.00000</td>\n",
              "      <td>1.000000</td>\n",
              "      <td>1.000000</td>\n",
              "      <td>1.000000</td>\n",
              "      <td>1.000000</td>\n",
              "      <td>1.000000</td>\n",
              "      <td>1.000000</td>\n",
              "      <td>1.000000</td>\n",
              "      <td>1.000000</td>\n",
              "      <td>1.000000</td>\n",
              "      <td>0.000000</td>\n",
              "      <td>0.000000</td>\n",
              "      <td>0.000000</td>\n",
              "      <td>1.000000</td>\n",
              "      <td>1.000000</td>\n",
              "      <td>1.000000</td>\n",
              "      <td>1.000000</td>\n",
              "      <td>1.000000</td>\n",
              "    </tr>\n",
              "    <tr>\n",
              "      <th>max</th>\n",
              "      <td>1.719885e+01</td>\n",
              "      <td>2.193864e+01</td>\n",
              "      <td>1.000000</td>\n",
              "      <td>2.019717e+01</td>\n",
              "      <td>3.414176e+00</td>\n",
              "      <td>1.419977e+01</td>\n",
              "      <td>8.594489e+00</td>\n",
              "      <td>6.747254e+00</td>\n",
              "      <td>4.667819e+00</td>\n",
              "      <td>6.474325e+00</td>\n",
              "      <td>7.053125e+00</td>\n",
              "      <td>8.018363e+00</td>\n",
              "      <td>5.880677e+00</td>\n",
              "      <td>7.342874e+00</td>\n",
              "      <td>9.886520e+00</td>\n",
              "      <td>2.617948e+01</td>\n",
              "      <td>1.232515e+01</td>\n",
              "      <td>2.195438e+01</td>\n",
              "      <td>5.270119e+00</td>\n",
              "      <td>3.722082e+01</td>\n",
              "      <td>2.835977e+01</td>\n",
              "      <td>1.242958e+01</td>\n",
              "      <td>3.575221e+01</td>\n",
              "      <td>3035.190000</td>\n",
              "      <td>1968.000000</td>\n",
              "      <td>6418.220000</td>\n",
              "      <td>2.029770e+01</td>\n",
              "      <td>3.278277e+00</td>\n",
              "      <td>3.299210e+00</td>\n",
              "      <td>1.378327e+00</td>\n",
              "      <td>3.616497e+00</td>\n",
              "      <td>5.913142e+00</td>\n",
              "      <td>5.627705e+00</td>\n",
              "      <td>1.581006e+01</td>\n",
              "      <td>2.966834e+01</td>\n",
              "      <td>17.000000</td>\n",
              "      <td>1.000000</td>\n",
              "      <td>1.791650e+00</td>\n",
              "      <td>5.385371e+00</td>\n",
              "      <td>3.377563e+00</td>\n",
              "      <td>5.714680e+00</td>\n",
              "      <td>3.599535e+00</td>\n",
              "      <td>6.583413e+01</td>\n",
              "      <td>1.000000</td>\n",
              "      <td>1.000000</td>\n",
              "      <td>1.000000</td>\n",
              "      <td>1.000000</td>\n",
              "      <td>1.0</td>\n",
              "      <td>1.000000</td>\n",
              "      <td>1.000000</td>\n",
              "      <td>1.00000</td>\n",
              "      <td>1.000000</td>\n",
              "      <td>1.000000</td>\n",
              "      <td>1.000000</td>\n",
              "      <td>1.000000</td>\n",
              "      <td>1.000000</td>\n",
              "      <td>1.000000</td>\n",
              "      <td>1.000000</td>\n",
              "      <td>1.000000</td>\n",
              "      <td>1.000000</td>\n",
              "      <td>1.000000</td>\n",
              "      <td>1.000000</td>\n",
              "      <td>1.000000</td>\n",
              "      <td>1.000000</td>\n",
              "      <td>1.000000</td>\n",
              "      <td>1.000000</td>\n",
              "      <td>1.000000</td>\n",
              "      <td>1.000000</td>\n",
              "    </tr>\n",
              "  </tbody>\n",
              "</table>\n",
              "</div>"
            ],
            "text/plain": [
              "                FRE           MON  ...      i_RECENT       i_SAVER\n",
              "count  1.521700e+04  1.521700e+04  ...  15217.000000  15217.000000\n",
              "mean  -1.700829e-16  4.794891e-17  ...      0.456135      0.869094\n",
              "std    1.000033e+00  1.000033e+00  ...      0.498088      0.337309\n",
              "min   -6.278516e-01 -7.500395e-01  ...      0.000000      0.000000\n",
              "25%   -6.278516e-01 -5.374713e-01  ...      0.000000      1.000000\n",
              "50%   -3.151024e-01 -3.316437e-01  ...      0.000000      1.000000\n",
              "75%    1.540213e-01  1.519217e-01  ...      1.000000      1.000000\n",
              "max    1.719885e+01  2.193864e+01  ...      1.000000      1.000000\n",
              "\n",
              "[8 rows x 68 columns]"
            ]
          },
          "metadata": {
            "tags": []
          },
          "execution_count": 50
        }
      ]
    },
    {
      "cell_type": "markdown",
      "metadata": {
        "id": "BVr_vulPPgGp"
      },
      "source": [
        "**1.2 b) Should standardization be done on all the data or should it be done separately on the training & test sets? Explain with your reasoning**"
      ]
    },
    {
      "cell_type": "markdown",
      "metadata": {
        "id": "5ajlzNGxPgGp"
      },
      "source": [
        "ANS<BR>\r\n",
        "THE STANDARDIZATION SHOULD BE DONE ON TRAIN TEST SEPARATELY BECAUSE WE DON'T WANT INFORMATION LEAKING FROM THE TEST SET INTO THE TRAIN SET IN THE FORM OF THE SCALING PARAMETERS. IF THIS HAPPENS, OUR MODEL WILL PERFORM WELL ON THE TEST SET BUT GIVE WORSE RESULTS ON REAL WORLD APPLICATION DATA."
      ]
    },
    {
      "cell_type": "markdown",
      "metadata": {
        "id": "uHpCZY7xPgGp"
      },
      "source": [
        "## Q2: Classification with Lasso (L1) regularization (30 points)\n",
        "\n",
        "We will now take this data and write a classifier to predict the response, which is in the `RESP` column of `dftouse`. This response corresponds to asking the question: will a user targeted with our advertisement respond or not?"
      ]
    },
    {
      "cell_type": "markdown",
      "metadata": {
        "id": "IcOqLXVyPgGq"
      },
      "source": [
        "#### 2.1 Baseline Classifiers (4 points)\n",
        "\n",
        "**2.1 a) What is the accuracy of a classifier that predicts that `no customer will respond to our mailing`? Why do you think the accuracy is the way it is?**"
      ]
    },
    {
      "cell_type": "code",
      "metadata": {
        "id": "whd9uzFsPgGq",
        "colab": {
          "base_uri": "https://localhost:8080/"
        },
        "outputId": "899d8487-d531-4d79-b103-e2eb77b6d325"
      },
      "source": [
        "# your code here\r\n",
        "no_acc=((dftouse['RESP']==0).sum())/dftouse.shape[0]\r\n",
        "print(f'For a classifier which predicts that no customer will respond to our mailing, the accuracy is {no_acc*100:.2f} %')"
      ],
      "execution_count": null,
      "outputs": [
        {
          "output_type": "stream",
          "text": [
            "For a classifier which predicts that no customer will respond to our mailing, the accuracy is 83.39 %\n"
          ],
          "name": "stdout"
        }
      ]
    },
    {
      "cell_type": "markdown",
      "metadata": {
        "id": "OqWD9Qv1PgGr"
      },
      "source": [
        "**2.1 b) What is the accuracy of a classifier that predicts that `all customers will respond to our mailing`?**"
      ]
    },
    {
      "cell_type": "code",
      "metadata": {
        "id": "iMwmK4-tPgGs",
        "colab": {
          "base_uri": "https://localhost:8080/"
        },
        "outputId": "797d8c64-943e-4da6-8afd-e85531bd02cc"
      },
      "source": [
        "# your code here\r\n",
        "yes_acc=((dftouse['RESP']==1).sum())/dftouse.shape[0]\r\n",
        "print(f'For a classifier which predicts that all customer will respond to our mailing, the accuracy is {yes_acc*100:.2f} %')"
      ],
      "execution_count": null,
      "outputs": [
        {
          "output_type": "stream",
          "text": [
            "For a classifier which predicts that all customer will respond to our mailing, the accuracy is 16.61 %\n"
          ],
          "name": "stdout"
        }
      ]
    },
    {
      "cell_type": "markdown",
      "metadata": {
        "id": "2Xgdru5cPgGs"
      },
      "source": [
        "#### 2.2 Classification Model - Logistic with Lasso (L1) (21 points)\n",
        "\n",
        "**2.2 a) Train a Logistic Regression Model with L1 regularization. Take all columns as features apart from the response variable `RESP`. Fine-tune your model by performing 5-fold CV (use the helper function below) to find the best value of the hyper-parameter 'C' from the follwing values: *'{0.001,0.01,0.1,1,10,100}'*.**"
      ]
    },
    {
      "cell_type": "code",
      "metadata": {
        "id": "TTOFlBiRQzIq"
      },
      "source": [
        "from sklearn.pipeline import Pipeline\r\n",
        "from sklearn.compose import ColumnTransformer\r\n",
        "#USING PIPELINE AND COLUMN TRANSFORMER, SCALING WAS IMPLEMENTED IN THE PIPELINE ALONG WITH THE CLASSIFIER\r\n",
        "numeric_transformer=Pipeline(steps=[('scaler',StandardScaler())])\r\n",
        "preprocessor=ColumnTransformer(remainder='passthrough',n_jobs=-1,transformers=[('num',numeric_transformer,STANDARDIZABLE)]) #TRANSFORMER\r\n",
        "clf=Pipeline(steps=[('preprocessor',preprocessor),\r\n",
        "                    ('classifier',LogisticRegression(penalty='l1',solver='liblinear',max_iter=1000))])#FINAL PIPELINE CONTAINING SCALAR AS WELL AS CLASSIFIER\r\n",
        "param_grid={'classifier__C':[0.001,0.01,0.1,1,10,100]}#PARAMETER LIST FOR THE C VALUE OF L1 REGULARIZATION"
      ],
      "execution_count": null,
      "outputs": []
    },
    {
      "cell_type": "code",
      "metadata": {
        "id": "I5hNvNAaPgGs"
      },
      "source": [
        "# helper function for cross-validation\n",
        "\n",
        "def cv_optimize(clf, parameters, X, y, n_folds):\n",
        "\n",
        "    gs = GridSearchCV(clf, param_grid=parameters, cv=n_folds)\n",
        "    gs.fit(X, y)\n",
        "    print(\"BEST\", gs.best_params_, gs.best_score_)\n",
        "    best = gs.best_estimator_\n",
        "    return best"
      ],
      "execution_count": null,
      "outputs": []
    },
    {
      "cell_type": "code",
      "metadata": {
        "id": "CxI2gRYcPgGt",
        "colab": {
          "base_uri": "https://localhost:8080/"
        },
        "outputId": "be570bd5-9594-442a-bed0-d909b3321738"
      },
      "source": [
        "# your code here\r\n",
        "best_estimate=cv_optimize(clf,param_grid,X_train,y_train,5)"
      ],
      "execution_count": null,
      "outputs": [
        {
          "output_type": "stream",
          "text": [
            "BEST {'classifier__C': 10} 0.8512846959675228\n"
          ],
          "name": "stdout"
        }
      ]
    },
    {
      "cell_type": "markdown",
      "metadata": {
        "id": "R7zMUN7LPgGu"
      },
      "source": [
        "**2.2 b) The Lasso implements internally, a form of feature selection by setting many coefficients to zero. Print the top 10 non-zero coefficient features from the classifier sorted by the absolute magnitude of the coefficients (highest to lowest)**"
      ]
    },
    {
      "cell_type": "code",
      "metadata": {
        "id": "iRAkgfyyImhm"
      },
      "source": [
        "#THE ONLY ISSUE I ENCOUNTERED WITH MAKING THE PIPELINE IS THAT THE FEATURE NAMES REQUIRED TO GET FEATURE IMPORTANCE IS A BIT JUMBLED UP\r\n",
        "#READING THE TRANSFORMER DOCUMENTATION GAVE ME INFO ABOUT get_feature_names() ATTRIBUTE OF TRANSFORMER\r\n",
        "#BUT IT DOESNT WORK WITH STANDARDSCALER WHICH DOESNT RETURN FEATURE NAMES\r\n",
        "#FURTHER READING INFORMED ME THAT THE PASSTHROUGH COLUMNS ARE RIGHT CONCANETED WITH THE TRANSFORM COLUMN\r\n",
        "#HENCE THIS CODE CELL TO GET THE FEATURE NAME IN RIGHT ORDER AS PER THE COEFFICIENT\r\n",
        "#STILL NOT 100% SURE I GOT IT RIGHT. WOULD LIKE SOME CLARITY ON THIS/ OR SOME ALTERNATE WAY/ CODE\r\n",
        "\r\n",
        "no_stand=[x for x in X_train.columns if x not in STANDARDIZABLE]#FEATURE NAMES IN \"CORRECT ORDER\""
      ],
      "execution_count": null,
      "outputs": []
    },
    {
      "cell_type": "code",
      "metadata": {
        "id": "m3oSBrCgPgGu",
        "colab": {
          "base_uri": "https://localhost:8080/",
          "height": 363
        },
        "outputId": "d1849426-92e7-4f28-fe6e-67636a13e5cf"
      },
      "source": [
        "# your code here\r\n",
        "#CREATING A DATAFRAME OF THE TEN MOST IMPORTANT FEATURE\r\n",
        "pd.DataFrame(zip(np.r_[STANDARDIZABLE,no_stand],best_estimate['classifier'].coef_.flatten()),columns=['Feature','Coefficient']).sort_values('Coefficient',ascending=False).head(10)"
      ],
      "execution_count": null,
      "outputs": [
        {
          "output_type": "execute_result",
          "data": {
            "text/html": [
              "<div>\n",
              "<style scoped>\n",
              "    .dataframe tbody tr th:only-of-type {\n",
              "        vertical-align: middle;\n",
              "    }\n",
              "\n",
              "    .dataframe tbody tr th {\n",
              "        vertical-align: top;\n",
              "    }\n",
              "\n",
              "    .dataframe thead th {\n",
              "        text-align: right;\n",
              "    }\n",
              "</style>\n",
              "<table border=\"1\" class=\"dataframe\">\n",
              "  <thead>\n",
              "    <tr style=\"text-align: right;\">\n",
              "      <th></th>\n",
              "      <th>Feature</th>\n",
              "      <th>Coefficient</th>\n",
              "    </tr>\n",
              "  </thead>\n",
              "  <tbody>\n",
              "    <tr>\n",
              "      <th>28</th>\n",
              "      <td>FREDAYS</td>\n",
              "      <td>0.514207</td>\n",
              "    </tr>\n",
              "    <tr>\n",
              "      <th>42</th>\n",
              "      <td>i_WEB</td>\n",
              "      <td>0.420678</td>\n",
              "    </tr>\n",
              "    <tr>\n",
              "      <th>22</th>\n",
              "      <td>FRE</td>\n",
              "      <td>0.351892</td>\n",
              "    </tr>\n",
              "    <tr>\n",
              "      <th>27</th>\n",
              "      <td>DAYS</td>\n",
              "      <td>0.231987</td>\n",
              "    </tr>\n",
              "    <tr>\n",
              "      <th>45</th>\n",
              "      <td>i_AMSPEND</td>\n",
              "      <td>0.127739</td>\n",
              "    </tr>\n",
              "    <tr>\n",
              "      <th>34</th>\n",
              "      <td>RESPONSERATE</td>\n",
              "      <td>0.112030</td>\n",
              "    </tr>\n",
              "    <tr>\n",
              "      <th>37</th>\n",
              "      <td>i_CC_CARD</td>\n",
              "      <td>0.107204</td>\n",
              "    </tr>\n",
              "    <tr>\n",
              "      <th>54</th>\n",
              "      <td>i_PBLOUSES</td>\n",
              "      <td>0.103643</td>\n",
              "    </tr>\n",
              "    <tr>\n",
              "      <th>55</th>\n",
              "      <td>i_PJACKETS</td>\n",
              "      <td>0.096593</td>\n",
              "    </tr>\n",
              "    <tr>\n",
              "      <th>49</th>\n",
              "      <td>i_RESPONDED</td>\n",
              "      <td>0.088909</td>\n",
              "    </tr>\n",
              "  </tbody>\n",
              "</table>\n",
              "</div>"
            ],
            "text/plain": [
              "         Feature  Coefficient\n",
              "28       FREDAYS     0.514207\n",
              "42         i_WEB     0.420678\n",
              "22           FRE     0.351892\n",
              "27          DAYS     0.231987\n",
              "45     i_AMSPEND     0.127739\n",
              "34  RESPONSERATE     0.112030\n",
              "37     i_CC_CARD     0.107204\n",
              "54    i_PBLOUSES     0.103643\n",
              "55    i_PJACKETS     0.096593\n",
              "49   i_RESPONDED     0.088909"
            ]
          },
          "metadata": {
            "tags": []
          },
          "execution_count": 69
        }
      ]
    },
    {
      "cell_type": "markdown",
      "metadata": {
        "id": "crcxkJ5OPgGv"
      },
      "source": [
        "We can also get a notion of which features are important in the classification process by seeing how they correlate with the response. This can be done using the Pearson correlation coefficient between each of our features and the response.\n",
        "\n",
        "The Pearson correlation method is the most common method to use for numerical variables; it assigns a value between − 1 and 1, where 0 is no correlation, 1 is total positive correlation, and − 1 is total negative correlation. This is interpreted as follows: a correlation value of 0.7 between two variables would indicate that a significant and positive relationship exists between the two. A positive correlation signifies that if variable A goes up, then B will also go up, whereas if the value of the correlation is negative, then if A increases, B decreases."
      ]
    },
    {
      "cell_type": "markdown",
      "metadata": {
        "id": "1yRt3XpKPgGv"
      },
      "source": [
        "**2.2 c) Implement some code to obtain the Pearson correlation coefficient between each of our features and the response. Do this on the training set only! Create a dataframe indexed by the features, which has columns `abscorr` the absolute value of the correlation and `corr` the value of the correlation. Sort the dataframe by `abscorr`, highest first, and show the top 25 features with the highest absolute correlation.**\n",
        "\n",
        "**Is there much overlap with the feature selection performed by the LASSO?**\n",
        "\n",
        "*Hint* : Use `pearsonr` from `scipy.stats.stats`. This has already been imported at the beginning"
      ]
    },
    {
      "cell_type": "code",
      "metadata": {
        "colab": {
          "base_uri": "https://localhost:8080/"
        },
        "id": "kbsZ_LKNXpMP",
        "outputId": "58f7e1c7-8a1e-4172-87c7-ad405fa6eab0"
      },
      "source": [
        "corr_dict={}\r\n",
        "for column in X_train.columns:\r\n",
        "  corr=pearsonr(X_train[column],y_train)[0]\r\n",
        "  corr_dict[column]={'abscorr':abs(corr),\r\n",
        "                     'corr':corr}"
      ],
      "execution_count": null,
      "outputs": [
        {
          "output_type": "stream",
          "text": [
            "/usr/local/lib/python3.6/dist-packages/scipy/stats/stats.py:3508: PearsonRConstantInputWarning: An input array is constant; the correlation coefficent is not defined.\n",
            "  warnings.warn(PearsonRConstantInputWarning())\n"
          ],
          "name": "stderr"
        }
      ]
    },
    {
      "cell_type": "code",
      "metadata": {
        "id": "AxpSqYukPgGw",
        "colab": {
          "base_uri": "https://localhost:8080/",
          "height": 363
        },
        "outputId": "d6e9fe68-75ed-4c73-8068-cde0599f881c"
      },
      "source": [
        "# your code here\r\n",
        "#DATAFRAME FOR PEARSON CORRELATION COEFFICIENT FOR THE FEATURES\r\n",
        "df=pd.DataFrame(corr_dict).transpose().sort_values('abscorr',ascending=False)\r\n",
        "df.head(10)"
      ],
      "execution_count": null,
      "outputs": [
        {
          "output_type": "execute_result",
          "data": {
            "text/html": [
              "<div>\n",
              "<style scoped>\n",
              "    .dataframe tbody tr th:only-of-type {\n",
              "        vertical-align: middle;\n",
              "    }\n",
              "\n",
              "    .dataframe tbody tr th {\n",
              "        vertical-align: top;\n",
              "    }\n",
              "\n",
              "    .dataframe thead th {\n",
              "        text-align: right;\n",
              "    }\n",
              "</style>\n",
              "<table border=\"1\" class=\"dataframe\">\n",
              "  <thead>\n",
              "    <tr style=\"text-align: right;\">\n",
              "      <th></th>\n",
              "      <th>abscorr</th>\n",
              "      <th>corr</th>\n",
              "    </tr>\n",
              "  </thead>\n",
              "  <tbody>\n",
              "    <tr>\n",
              "      <th>FRE</th>\n",
              "      <td>0.409992</td>\n",
              "      <td>0.409992</td>\n",
              "    </tr>\n",
              "    <tr>\n",
              "      <th>CLASSES</th>\n",
              "      <td>0.373220</td>\n",
              "      <td>0.373220</td>\n",
              "    </tr>\n",
              "    <tr>\n",
              "      <th>STYLES</th>\n",
              "      <td>0.360818</td>\n",
              "      <td>0.360818</td>\n",
              "    </tr>\n",
              "    <tr>\n",
              "      <th>RESPONDED</th>\n",
              "      <td>0.350130</td>\n",
              "      <td>0.350130</td>\n",
              "    </tr>\n",
              "    <tr>\n",
              "      <th>RESPONSERATE</th>\n",
              "      <td>0.329086</td>\n",
              "      <td>0.329086</td>\n",
              "    </tr>\n",
              "    <tr>\n",
              "      <th>MON</th>\n",
              "      <td>0.322537</td>\n",
              "      <td>0.322537</td>\n",
              "    </tr>\n",
              "    <tr>\n",
              "      <th>SMONSPEND</th>\n",
              "      <td>0.307257</td>\n",
              "      <td>0.307257</td>\n",
              "    </tr>\n",
              "    <tr>\n",
              "      <th>STORES</th>\n",
              "      <td>0.306398</td>\n",
              "      <td>0.306398</td>\n",
              "    </tr>\n",
              "    <tr>\n",
              "      <th>LTFREDAY</th>\n",
              "      <td>0.304037</td>\n",
              "      <td>-0.304037</td>\n",
              "    </tr>\n",
              "    <tr>\n",
              "      <th>COUPONS</th>\n",
              "      <td>0.303485</td>\n",
              "      <td>0.303485</td>\n",
              "    </tr>\n",
              "  </tbody>\n",
              "</table>\n",
              "</div>"
            ],
            "text/plain": [
              "               abscorr      corr\n",
              "FRE           0.409992  0.409992\n",
              "CLASSES       0.373220  0.373220\n",
              "STYLES        0.360818  0.360818\n",
              "RESPONDED     0.350130  0.350130\n",
              "RESPONSERATE  0.329086  0.329086\n",
              "MON           0.322537  0.322537\n",
              "SMONSPEND     0.307257  0.307257\n",
              "STORES        0.306398  0.306398\n",
              "LTFREDAY      0.304037 -0.304037\n",
              "COUPONS       0.303485  0.303485"
            ]
          },
          "metadata": {
            "tags": []
          },
          "execution_count": 32
        }
      ]
    },
    {
      "cell_type": "markdown",
      "metadata": {
        "id": "12TV7gYDPgGx"
      },
      "source": [
        "ANS<BR>\r\n",
        "THERE IS NOT MUCH OVERLAP BETWEEN LASSO AND PEARSON FEATURE IMPORTANCE. WE CAN SEE THAT FRE IS PRETTY HIGH UP ON BOTH LISTS, RESPONSERATE IS ALSO THERE, BUT MOST OF THE FEATURES DON'T MATCH. IN MY HONEST OPINION, THE FEATURES IN PEARSON CORRELATION LIST MAKE MORE SENSE IN TERMS OF IMPORTANCE."
      ]
    },
    {
      "cell_type": "markdown",
      "metadata": {
        "id": "gAV3bdU0PgGx"
      },
      "source": [
        "**2.2 d) Compare the accuracy of this classifier with the `no customer responds baseline` model. Does this classifier seem worthwhile pursuing?**"
      ]
    },
    {
      "cell_type": "markdown",
      "metadata": {
        "id": "C_wQLlNjPgGx"
      },
      "source": [
        "ANS<BR>\n",
        "THE NO CONSUMER BASELINE MODEL HAD AN ACCURACY OF 83.39% COMPARED TO OUR L1 LOGISTIC CLASSIFIER WHICH HAD AN ACCURACY OF 85.12%. THIS COMPARISON ISNT ACTUALLY FAIR SINCE OUR DATASET IS HIGHLY IMBALANCED. WE NEED TO LOOK AT THE TRUE POSITIVES AND FALSE NEGATIVES TO ACTUALLY GET AN UNDERSTANDING OF HOW OUR MODEL IS PERFOEMING.\n",
        "\n"
      ]
    },
    {
      "cell_type": "markdown",
      "metadata": {
        "id": "ayJxgIqRPgGy"
      },
      "source": [
        "**2.2 e) Is accuracy really the best metric to evaluate the models above? Why/Why not?**"
      ]
    },
    {
      "cell_type": "markdown",
      "metadata": {
        "id": "WyhBEaCpPgGz"
      },
      "source": [
        "ANS<BR>\n",
        "NO ACCURACY IS NOT THE BEST METRIC TO EVALUATE THE MODEL BECAUSE THE DATASET IS HIGHLY IMBALANCED MEANING IT HAS MORE INSTANCES OF ONE CLASS OF TARGET VARIABLE (CLASS 0,AROUND 83%) AS COMPARED THE OTHER CLASS (CLASS 1, AROUND 17%). WE NEED TO LOOK AT CONFUSION MATRIX TO ANALYSE OUR MODEL'S PERFORMANCE.\n",
        "\n"
      ]
    },
    {
      "cell_type": "markdown",
      "metadata": {
        "id": "OlHcTy-uPgGz"
      },
      "source": [
        "#### 2.3 Prediction (5 points)\n",
        "\n",
        "**Print out the accuracy on the train and test set separately**"
      ]
    },
    {
      "cell_type": "code",
      "metadata": {
        "id": "x3Ka79EhPgGz",
        "colab": {
          "base_uri": "https://localhost:8080/"
        },
        "outputId": "608e7eee-9cc2-43be-b45d-b506e79562f6"
      },
      "source": [
        "# your code here\r\n",
        "print(f'The train set accuracy for the best estimate model from Grid-SearchCV is {best_estimate.score(X_train,y_train):.3f}')\r\n",
        "print(f'The test set accuracy for the best estimate model from Grid-SearchCV is {best_estimate.score(X_test,y_test):.3f}')"
      ],
      "execution_count": null,
      "outputs": [
        {
          "output_type": "stream",
          "text": [
            "The train set accuracy for the best estimate model from Grid-SearchCV is 0.856\n",
            "The test set accuracy for the best estimate model from Grid-SearchCV is 0.849\n"
          ],
          "name": "stdout"
        }
      ]
    },
    {
      "cell_type": "markdown",
      "metadata": {
        "id": "DFRwJXZnPgG0"
      },
      "source": [
        "## Q3: Confusion Matrix, Costs, Averge Profit & Thresholds (35 points)"
      ]
    },
    {
      "cell_type": "markdown",
      "metadata": {
        "id": "I6IMmnkuPgG1"
      },
      "source": [
        "#### 3.1 Confusion Matrix (7 points)\n",
        "\n",
        "The confusion matrix is of the following form:\n",
        "\n",
        "![hwimages](https://github.com/Surojit-KB/Homework3/blob/master/images/confusionmatrix.png?raw=1)"
      ]
    },
    {
      "cell_type": "markdown",
      "metadata": {
        "id": "bKfEbo-UPgG1"
      },
      "source": [
        "**3.1 a) Plot the confusion matrix for the above models on the train & test data-sets using the helper function below(total 2 plots)**\n"
      ]
    },
    {
      "cell_type": "code",
      "metadata": {
        "id": "Lp_exOaRPgG1"
      },
      "source": [
        "# helper function to plot confusion matrix\n",
        "\n",
        "def plot_confusion_matrix(model, features, labels, test=True):\n",
        "\n",
        "    # Predict the values from the dataset\n",
        "    y_pred = model.predict(features)\n",
        "    # Convert validation observations to one hot vectors\n",
        "    y_true = labels \n",
        "    # compute the confusion matrix\n",
        "    confusion_mtx = confusion_matrix(y_true, y_pred) \n",
        "\n",
        "    df_cm = pd.DataFrame(confusion_mtx, range(2),\n",
        "                      range(2))\n",
        "    sns.heatmap(df_cm, annot=True, annot_kws = {'size':15}, cmap = 'Blues',fmt = 'd',\n",
        "                norm=LogNorm(df_cm.values.min(),df_cm.values.max()),\n",
        "                cbar_kws={\"ticks\":[0,1,10,1e2,1e3,1e4]},vmin=0.001, vmax=10000)\n",
        "    plt.tight_layout()\n",
        "    if test:\n",
        "        plt.title('Confusion matrix on Test data')\n",
        "    else:\n",
        "        plt.title('Confusion matrix on Train data')\n",
        "    plt.ylabel('Observed label')\n",
        "    plt.xlabel('Predicted label')\n",
        "    plt.ylim(2,0)\n",
        "    plt.show()"
      ],
      "execution_count": null,
      "outputs": []
    },
    {
      "cell_type": "code",
      "metadata": {
        "id": "rvToFdRdPgG1",
        "colab": {
          "base_uri": "https://localhost:8080/",
          "height": 339
        },
        "outputId": "58170559-7d11-4b46-93d7-11d836edc004"
      },
      "source": [
        "# your code here\r\n",
        "plot_confusion_matrix(best_estimate,X_train,y_train,test=False)"
      ],
      "execution_count": null,
      "outputs": [
        {
          "output_type": "display_data",
          "data": {
            "image/png": "[encoded data removed]",
            "text/plain": [
              "<Figure size 432x288 with 2 Axes>"
            ]
          },
          "metadata": {
            "tags": [],
            "needs_background": "light"
          }
        }
      ]
    },
    {
      "cell_type": "code",
      "metadata": {
        "colab": {
          "base_uri": "https://localhost:8080/",
          "height": 339
        },
        "id": "syGLtmPT05vW",
        "outputId": "c74690a0-9bf7-430c-f7f1-7d684e3675d0"
      },
      "source": [
        "plot_confusion_matrix(best_estimate,X_test,y_test,test=True)"
      ],
      "execution_count": null,
      "outputs": [
        {
          "output_type": "display_data",
          "data": {
            "image/png": "[encoded data removed]",
            "text/plain": [
              "<Figure size 432x288 with 2 Axes>"
            ]
          },
          "metadata": {
            "tags": [],
            "needs_background": "light"
          }
        }
      ]
    },
    {
      "cell_type": "markdown",
      "metadata": {
        "id": "z0ReMHZhPgG2"
      },
      "source": [
        "**3.1 b) Calculate and print out the Observed Negatives(ON), Observed Positives(OP), Predicted Negatives(PN) & Predicted Positives(PP) for the test data-set**"
      ]
    },
    {
      "cell_type": "code",
      "metadata": {
        "id": "Aq9BnBV1PgG2"
      },
      "source": [
        "# your code here\r\n",
        "confusion_mtx = confusion_matrix(y_test, best_estimate.predict(X_test))"
      ],
      "execution_count": null,
      "outputs": []
    },
    {
      "cell_type": "code",
      "metadata": {
        "colab": {
          "base_uri": "https://localhost:8080/"
        },
        "id": "SfW57pUr2LSY",
        "outputId": "73b334cd-199a-4656-e630-42d027b7f06a"
      },
      "source": [
        "print(f'The Observed Negatives (ON) for the test set data is {confusion_mtx.sum(axis=1)[0]} and the Observed Positive (OP) for the test set data is {confusion_mtx.sum(axis=1)[1]}')\r\n",
        "print(f'The Predicted Negatives (PN) for the test set data is {confusion_mtx.sum(axis=0)[0]} and the Predicted Positive (PP) for the test set data is {confusion_mtx.sum(axis=0)[1]}')"
      ],
      "execution_count": null,
      "outputs": [
        {
          "output_type": "stream",
          "text": [
            "The Observed Negatives (ON) for the test set data is 5461 and the Observed Positive (OP) for the test set data is 1061\n",
            "The Predicted Negatives (PN) for the test set data is 6151 and the Predicted Positive (PP) for the test set data is 371\n"
          ],
          "name": "stdout"
        }
      ]
    },
    {
      "cell_type": "markdown",
      "metadata": {
        "id": "0n6QpT5sPgG3"
      },
      "source": [
        "In addition to these four quantities, the confusion matrix gives us more details on proper classifications and mis-classifications from our classifier:\n",
        "\n",
        "- the samples that are +ive and the classifier predicts as +ive are called True Positives (TP). These are folks we correctly identified as responders,and thus sending them a mailing would result in a sale for us. True Positives are great. We do incur the cost of mailing them, but we like to because they will come into the store to buy.\n",
        "- the samples that are -ive and the classifier predicts (wrongly) as +ive are called False Positives (FP). False Positives incur us the cost of mailing them as well, but are not very costly. These are people who wouldnt have responded, but we sent them a mailing because our classifier mispredicted them as buyers. Thus, for them, we only incur the cost of preparing the mailing and mailing it to them.\n",
        "- the samples that are -ive and the classifier predicts as -ive are called True Negatives (TN). These are folks we correctly identified as not-responding, and thus we dont waste any money on sending them a mailing. This is a great classification for us.\n",
        "- the samples that are +ive and the classifier predicts as -ive are called False Negatives (FN). False negatives are VERY costly: these are folks who would have responded to us had we mailed them, but we didnt target them, leading to huge lost sales per person. Notice that our Logistic classifier has tons of False Negatives\n",
        "\n",
        "It is not enough to simply identify these categories from the confusion matrix. Rather, we want to sit down with our business team and identify the costs associated with each of the 4 classification situations above. Keep in mind that these costs might even change from year to year or even more suddenly: this is why it is important to have marketing and sales people on your data science teams. (See Patil, D. J. Building data science teams. \" O'Reilly Media, Inc.\", 2011.\n",
        " for more details)."
      ]
    },
    {
      "cell_type": "markdown",
      "metadata": {
        "id": "8TvAvUosPgG3"
      },
      "source": [
        "#### 3.2 Cost  and Utility Matrix (6 points)\n",
        "\n",
        "We use the costs to write a **risk or cost matrix** in the same form as the confusion matrix above. \n",
        "\n",
        "![cost matrix](https://github.com/Surojit-KB/Homework3/blob/master/images/costmatrix.png?raw=1)\n",
        "\n",
        "The negative of the cost matrix is called the **utility matrix or profit matrix** `u`. We shall use this in the next part of the homework."
      ]
    },
    {
      "cell_type": "markdown",
      "metadata": {
        "id": "-c9ho_g2PgG3"
      },
      "source": [
        "Lets assume the amortized cost of mailing it is \\$3. Lets assume additionally that the profit margin on a sale is 30% (we are a high end clothing chain).\n",
        "`True Negatives (TN)` cost us nothing but gain us nothing either. "
      ]
    },
    {
      "cell_type": "code",
      "metadata": {
        "id": "o0B0MakMPgG4"
      },
      "source": [
        "# true negative cost\n",
        "tnc = 0.0"
      ],
      "execution_count": null,
      "outputs": []
    },
    {
      "cell_type": "markdown",
      "metadata": {
        "id": "fuabWGvAPgG5"
      },
      "source": [
        "From the average cost of a sale, and the 30% profit assumption, we calculate `tpc`, the cost of a `True Positive (TP)`. Note: `tpc` must be negative, since we are talking about costs.\n",
        "\n",
        "The `tpc` takes into account the cost of mailing to the respondent & the cost of the coupon, and since our mailing works, we subtract out the profit. We use the average of the `AVRG` column(which is the average money spent by a customer on each visit) multiplied by the profit margin as the profit per person."
      ]
    },
    {
      "cell_type": "code",
      "metadata": {
        "id": "Bbkw9CaHPgG6"
      },
      "source": [
        "# true positive cost\n",
        "mail = 3 \n",
        "profit_margin = 0.3\n",
        "tpc = round(mail - df.AVRG.mean()*profit_margin,2)"
      ],
      "execution_count": null,
      "outputs": []
    },
    {
      "cell_type": "markdown",
      "metadata": {
        "id": "P-TnNA1tPgG6"
      },
      "source": [
        "The `False Negative (FN)` is a lost sale for us! We didnt mail them, and they didnt spend the money. They would have if we mailed them. So we lost a certain profit per such false negative! Thus the false-negative cost, given by `fnc`, is:"
      ]
    },
    {
      "cell_type": "code",
      "metadata": {
        "id": "DAjWFhYoPgG7"
      },
      "source": [
        "fnc = round(np.mean(df.AVRG)*profit_margin,2)"
      ],
      "execution_count": null,
      "outputs": []
    },
    {
      "cell_type": "markdown",
      "metadata": {
        "id": "Mm8HRpu0PgG8"
      },
      "source": [
        "This leaves us with `False Positives (FP)`. This is a person who would not have responded but you wasted $3 on. So the false positive cost, (`fpc`) is:"
      ]
    },
    {
      "cell_type": "code",
      "metadata": {
        "id": "4pxYquQKPgG9"
      },
      "source": [
        "fpc = mail"
      ],
      "execution_count": null,
      "outputs": []
    },
    {
      "cell_type": "code",
      "metadata": {
        "id": "-JF4EZP6PgG9",
        "colab": {
          "base_uri": "https://localhost:8080/"
        },
        "outputId": "ccecc120-ba97-4d9e-8638-b38d68d08d09"
      },
      "source": [
        "print('TNC:', tnc,'\\n','TPC:', tpc,'\\n','FNC:', fnc,'\\n','FPC:', fpc)"
      ],
      "execution_count": null,
      "outputs": [
        {
          "output_type": "stream",
          "text": [
            "TNC: 0.0 \n",
            " TPC: -31.17 \n",
            " FNC: 34.17 \n",
            " FPC: 3\n"
          ],
          "name": "stdout"
        }
      ]
    },
    {
      "cell_type": "markdown",
      "metadata": {
        "id": "-pCoknfJPgHA"
      },
      "source": [
        "**Print out the profit matrix array. Use the costs described above**"
      ]
    },
    {
      "cell_type": "code",
      "metadata": {
        "id": "WM4MrvRPPgHA",
        "colab": {
          "base_uri": "https://localhost:8080/"
        },
        "outputId": "87290d86-5c73-4d52-a157-75462b1deb62"
      },
      "source": [
        "# your code here\r\n",
        "#I TOOK THE NEGATIVE OF THE COST TO INDICATE THE PROFIT.\r\n",
        "profit_mtx=-np.array([[tnc,fpc],\r\n",
        "                     [fnc,tpc]])\r\n",
        "print(profit_mtx)"
      ],
      "execution_count": null,
      "outputs": [
        {
          "output_type": "stream",
          "text": [
            "[[ -0.    -3.  ]\n",
            " [-34.17  31.17]]\n"
          ],
          "name": "stdout"
        }
      ]
    },
    {
      "cell_type": "markdown",
      "metadata": {
        "id": "wjPt-R-CPgHA"
      },
      "source": [
        "#### 3.3 Average Profit Per Person (16 points)\n",
        "\n",
        "The Average Profit Per Person can be found by multiplying the utility matrix (u) by the confusion matrix elementwise, and dividing by the sum of the elements in the confusion matrix, or the test set size."
      ]
    },
    {
      "cell_type": "markdown",
      "metadata": {
        "id": "NuOfj0g5PgHB"
      },
      "source": [
        "**3.3 a) Write a function to calculate the average profit per person by following the instructions below**"
      ]
    },
    {
      "cell_type": "code",
      "metadata": {
        "id": "o0Elj93DPgHB"
      },
      "source": [
        "def average_profit_pp(y, ypred, u):\n",
        "    \"\"\"\n",
        "    Function\n",
        "    --------\n",
        "    average_profit_pp\n",
        "\n",
        "    Inputs\n",
        "    ------\n",
        "    y: the observed response value (true value)\n",
        "    ypred: the predicted response value\n",
        "    u: Utility or the Profit matrix\n",
        "\n",
        "    Returns\n",
        "    -------\n",
        "    score: average profit per person calculated\n",
        "    \"\"\"\n",
        "    # your code here\n",
        "    con_mat=confusion_matrix(y,ypred)\n",
        "    print('The Confusion Matrix is')\n",
        "    print(con_mat)\n",
        "    profit_mat=np.multiply(con_mat,u)\n",
        "    print('The Profit Matrix for the dataset is:')\n",
        "    print(profit_mat)\n",
        "    app=np.sum(profit_mat)/len(y)\n",
        "    print(f'The Average Profit per Person is {app:.2f}')"
      ],
      "execution_count": null,
      "outputs": []
    },
    {
      "cell_type": "markdown",
      "metadata": {
        "id": "Yhx9wOOOPgHB"
      },
      "source": [
        "**3.3 b) Calculate and Print the Avg Profit Per Person on our test data for the 2 baseline classifiers:** \n",
        "- Dont Send to Anyone Baseline Classifier (predicts that no customer will respond)\n",
        "- Send to Everyone Baseline Classifier (predicts that all customers will respond)"
      ]
    },
    {
      "cell_type": "code",
      "metadata": {
        "colab": {
          "base_uri": "https://localhost:8080/"
        },
        "id": "n538ZYWRCIr_",
        "outputId": "da220038-b72b-4378-8158-3a5dd64216a6"
      },
      "source": [
        "print('For the DONT SEND to ANYONE classifier:')\r\n",
        "average_profit_pp(y_test,np.zeros(len(y_test)),profit_mtx)"
      ],
      "execution_count": null,
      "outputs": [
        {
          "output_type": "stream",
          "text": [
            "For the DONT SEND to ANYONE classifier:\n",
            "The Confusion Matrix is\n",
            "[[5461    0]\n",
            " [1061    0]]\n",
            "The Profit Matrix for the dataset is:\n",
            "[[    -0.       -0.  ]\n",
            " [-36254.37      0.  ]]\n",
            "The Average Profit per Person is -5.56\n"
          ],
          "name": "stdout"
        }
      ]
    },
    {
      "cell_type": "code",
      "metadata": {
        "colab": {
          "base_uri": "https://localhost:8080/"
        },
        "id": "yB1SKzGIDEmm",
        "outputId": "4f9e986d-0847-44cb-8e24-7c343f878ad1"
      },
      "source": [
        "print('For the SEND to EVERYONE classifier:')\r\n",
        "average_profit_pp(y_test,np.ones(len(y_test)),profit_mtx)"
      ],
      "execution_count": null,
      "outputs": [
        {
          "output_type": "stream",
          "text": [
            "For the SEND to EVERYONE classifier:\n",
            "The Confusion Matrix is\n",
            "[[   0 5461]\n",
            " [   0 1061]]\n",
            "The Profit Matrix for the dataset is:\n",
            "[[    -0.   -16383.  ]\n",
            " [    -0.    33071.37]]\n",
            "The Average Profit per Person is 2.56\n"
          ],
          "name": "stdout"
        }
      ]
    },
    {
      "cell_type": "markdown",
      "metadata": {
        "id": "vtvZgwTjPgHC"
      },
      "source": [
        "ANS<BR>\r\n",
        "HERE WE CAN TRULY SEE THAT WE WOULD BE MAKING A LOSS IF WE JUST SELECT THE MODEL ON THE BASIS OF ACCURACY. THE SEND TO EVERYONE MODEL, WITH AN ACCURACY OF 16% MAKES A PROFIT OF $2.56$ WHILE THE DON'T SEND TO EVERYONE MODEL, WITH AN ACCURACY OF 83.39%, MAKES A LOSS OF $5.56$."
      ]
    },
    {
      "cell_type": "markdown",
      "metadata": {
        "id": "L5LEpa3VPgHC"
      },
      "source": [
        "**3.3 c) Taking the average profit per person as the comparison metric, which one of the above 2 classifiers is the one to beat?**"
      ]
    },
    {
      "cell_type": "markdown",
      "metadata": {
        "id": "AdGnX4CAPgHC"
      },
      "source": [
        "ANS<BR>\n",
        "THE SEND TO EVERONE CLASSIFER IS THE ONE TO BEAT IF WE ARE TO MAKE A PROFIT.\n",
        "\n"
      ]
    },
    {
      "cell_type": "markdown",
      "metadata": {
        "id": "6O8QvxRZPgHD"
      },
      "source": [
        "**3.3 d) What is the Avg Profit Per Person for our Logistic-L1 classifier?**"
      ]
    },
    {
      "cell_type": "code",
      "metadata": {
        "colab": {
          "base_uri": "https://localhost:8080/"
        },
        "id": "QpkVvm7PENmN",
        "outputId": "8941b352-965c-4f89-8051-945898f4ef1e"
      },
      "source": [
        "print('For the LOGISTIC-L1 classifier:')\r\n",
        "average_profit_pp(y_test,best_estimate.predict(X_test),profit_mtx)"
      ],
      "execution_count": null,
      "outputs": [
        {
          "output_type": "stream",
          "text": [
            "For the LOGISTIC-L1 classifier:\n",
            "The Confusion Matrix is\n",
            "[[5338  123]\n",
            " [ 813  248]]\n",
            "The Profit Matrix for the dataset is:\n",
            "[[    -0.     -369.  ]\n",
            " [-27780.21   7730.16]]\n",
            "The Average Profit per Person is -3.13\n"
          ],
          "name": "stdout"
        }
      ]
    },
    {
      "cell_type": "markdown",
      "metadata": {
        "id": "g5FvnjZHPgHD"
      },
      "source": [
        "ANS<BR>\r\n",
        "EVEN OUR LOGISTIC L1 MODEL IS ALSO MAKING A HEAVY LOSS OF $3.13$ DOLLARS PER PERSON. THIS SHOWS THAT WE CAN IMPROVE OUR MODEL"
      ]
    },
    {
      "cell_type": "markdown",
      "metadata": {
        "id": "JxWpONPHPgHE"
      },
      "source": [
        "#### 3.4 Thresholds (6 points)\n",
        "\n",
        "The `sklearn` API function `predict` assumes a threshold probability of having a +ve sample to be 0.5; that is, if a sample has a greater than 0.5 chance of being a 1, assume it is so. In the predictions above, we've done exactly that - if probability is >= 0.5, then `ypred` is 1 else 0.\n",
        "\n",
        "By varying the threshold, the `ypred` and consequently the confusion matrix and the avg profit per person can change. "
      ]
    },
    {
      "cell_type": "markdown",
      "metadata": {
        "id": "I1m1AeZuPgHE"
      },
      "source": [
        "**3.4 a) The thresholds are NOT always kept at 0.5 while solving a classification problem. Why do you think this happens? Can you think of any other real world example where we would want to change the threshold from 0.5?**"
      ]
    },
    {
      "cell_type": "markdown",
      "metadata": {
        "id": "NoLGpfyzPgHF"
      },
      "source": [
        "ANY HEAVILY IMBALANCED DATASET WILL REQUIRE US TO CHANGE THE THRESHOLD OF CLASSIFICATION OTHERWISE WE WILL GET EXTREMELY POOR RESULTS. EXAMPLE CAN BE A CREDIT CARD DETECTION PROBLEM, IN WHICH 99.9% OF THE DATASET WOULD BE A NON-FRAUD CLASS, IN WHICH CASE A THRESHOLD OF 0.5 WILL PERFORM VERY POORLY.\n",
        "\n"
      ]
    },
    {
      "cell_type": "markdown",
      "metadata": {
        "id": "1W9lNO-PPgHF"
      },
      "source": [
        "**3.4 b) Find out the average profit per person for a given thresholds of 0.05. You can use the helper function provided below to help with this problem**"
      ]
    },
    {
      "cell_type": "code",
      "metadata": {
        "id": "QB2IKYhLPgHF"
      },
      "source": [
        "# helper function to return the predictions for a given threshold 't'\n",
        "\n",
        "def t_repredict(clf,t,xtest):\n",
        "    probs=clf.predict_proba(xtest)\n",
        "    p1 = probs[:,1]\n",
        "    ypred = (p1 > t)*1\n",
        "    return ypred"
      ],
      "execution_count": null,
      "outputs": []
    },
    {
      "cell_type": "code",
      "metadata": {
        "id": "vcmWuGUoPgHG",
        "colab": {
          "base_uri": "https://localhost:8080/"
        },
        "outputId": "6bf58a1a-e429-4a14-fc25-21a829f816d8"
      },
      "source": [
        "# your code here\r\n",
        "#THIS WAS JUST A SIMPLE CODE TO CHECK WHICH THRESHOLD PROVIDES THE BEST PROFIT. KIND OF THE SAME THING THAT ROC CURVE IS DOING.\r\n",
        "for i in np.arange(0.05,0.95,0.05):\r\n",
        "  y_repred=t_repredict(best_estimate,i,X_test)\r\n",
        "  print(f'The Probability Threshold is {i:.2f} and corresponding acc is {(y_repred==y_test).sum()/len(y_test):.4f}')\r\n",
        "  average_profit_pp(y_test,y_repred,profit_mtx)\r\n",
        "  print(\" \")\r\n",
        "  print(\" \")"
      ],
      "execution_count": null,
      "outputs": [
        {
          "output_type": "stream",
          "text": [
            "The Probability Threshold is 0.05 and corresponding acc is 0.5193\n",
            "The Confusion Matrix is\n",
            "[[2364 3097]\n",
            " [  38 1023]]\n",
            "The Profit Matrix for the dataset is:\n",
            "[[   -0.   -9291.  ]\n",
            " [-1298.46 31886.91]]\n",
            "The Average Profit per Person is 3.27\n",
            " \n",
            " \n",
            "The Probability Threshold is 0.10 and corresponding acc is 0.6179\n",
            "The Confusion Matrix is\n",
            "[[3042 2419]\n",
            " [  73  988]]\n",
            "The Profit Matrix for the dataset is:\n",
            "[[   -0.   -7257.  ]\n",
            " [-2494.41 30795.96]]\n",
            "The Average Profit per Person is 3.23\n",
            " \n",
            " \n",
            "The Probability Threshold is 0.15 and corresponding acc is 0.6861\n",
            "The Confusion Matrix is\n",
            "[[3554 1907]\n",
            " [ 140  921]]\n",
            "The Profit Matrix for the dataset is:\n",
            "[[   -0.   -5721.  ]\n",
            " [-4783.8  28707.57]]\n",
            "The Average Profit per Person is 2.79\n",
            " \n",
            " \n",
            "The Probability Threshold is 0.20 and corresponding acc is 0.7407\n",
            "The Confusion Matrix is\n",
            "[[3996 1465]\n",
            " [ 226  835]]\n",
            "The Profit Matrix for the dataset is:\n",
            "[[   -0.   -4395.  ]\n",
            " [-7722.42 26026.95]]\n",
            "The Average Profit per Person is 2.13\n",
            " \n",
            " \n",
            "The Probability Threshold is 0.25 and corresponding acc is 0.7830\n",
            "The Confusion Matrix is\n",
            "[[4376 1085]\n",
            " [ 330  731]]\n",
            "The Profit Matrix for the dataset is:\n",
            "[[    -0.    -3255.  ]\n",
            " [-11276.1   22785.27]]\n",
            "The Average Profit per Person is 1.27\n",
            " \n",
            " \n",
            "The Probability Threshold is 0.30 and corresponding acc is 0.8151\n",
            "The Confusion Matrix is\n",
            "[[4705  756]\n",
            " [ 450  611]]\n",
            "The Profit Matrix for the dataset is:\n",
            "[[    -0.    -2268.  ]\n",
            " [-15376.5   19044.87]]\n",
            "The Average Profit per Person is 0.21\n",
            " \n",
            " \n",
            "The Probability Threshold is 0.35 and corresponding acc is 0.8387\n",
            "The Confusion Matrix is\n",
            "[[4959  502]\n",
            " [ 550  511]]\n",
            "The Profit Matrix for the dataset is:\n",
            "[[    -0.    -1506.  ]\n",
            " [-18793.5   15927.87]]\n",
            "The Average Profit per Person is -0.67\n",
            " \n",
            " \n",
            "The Probability Threshold is 0.40 and corresponding acc is 0.8496\n",
            "The Confusion Matrix is\n",
            "[[5137  324]\n",
            " [ 657  404]]\n",
            "The Profit Matrix for the dataset is:\n",
            "[[    -0.     -972.  ]\n",
            " [-22449.69  12592.68]]\n",
            "The Average Profit per Person is -1.66\n",
            " \n",
            " \n",
            "The Probability Threshold is 0.45 and corresponding acc is 0.8565\n",
            "The Confusion Matrix is\n",
            "[[5270  191]\n",
            " [ 745  316]]\n",
            "The Profit Matrix for the dataset is:\n",
            "[[    -0.     -573.  ]\n",
            " [-25456.65   9849.72]]\n",
            "The Average Profit per Person is -2.48\n",
            " \n",
            " \n",
            "The Probability Threshold is 0.50 and corresponding acc is 0.8565\n",
            "The Confusion Matrix is\n",
            "[[5338  123]\n",
            " [ 813  248]]\n",
            "The Profit Matrix for the dataset is:\n",
            "[[    -0.     -369.  ]\n",
            " [-27780.21   7730.16]]\n",
            "The Average Profit per Person is -3.13\n",
            " \n",
            " \n",
            "The Probability Threshold is 0.55 and corresponding acc is 0.8554\n",
            "The Confusion Matrix is\n",
            "[[5384   77]\n",
            " [ 866  195]]\n",
            "The Profit Matrix for the dataset is:\n",
            "[[    -0.     -231.  ]\n",
            " [-29591.22   6078.15]]\n",
            "The Average Profit per Person is -3.64\n",
            " \n",
            " \n",
            "The Probability Threshold is 0.60 and corresponding acc is 0.8537\n",
            "The Confusion Matrix is\n",
            "[[5409   52]\n",
            " [ 902  159]]\n",
            "The Profit Matrix for the dataset is:\n",
            "[[    -0.     -156.  ]\n",
            " [-30821.34   4956.03]]\n",
            "The Average Profit per Person is -3.99\n",
            " \n",
            " \n",
            "The Probability Threshold is 0.65 and corresponding acc is 0.8517\n",
            "The Confusion Matrix is\n",
            "[[5430   31]\n",
            " [ 936  125]]\n",
            "The Profit Matrix for the dataset is:\n",
            "[[    -0.      -93.  ]\n",
            " [-31983.12   3896.25]]\n",
            "The Average Profit per Person is -4.32\n",
            " \n",
            " \n",
            "The Probability Threshold is 0.70 and corresponding acc is 0.8482\n",
            "The Confusion Matrix is\n",
            "[[5437   24]\n",
            " [ 966   95]]\n",
            "The Profit Matrix for the dataset is:\n",
            "[[    -0.      -72.  ]\n",
            " [-33008.22   2961.15]]\n",
            "The Average Profit per Person is -4.62\n",
            " \n",
            " \n",
            "The Probability Threshold is 0.75 and corresponding acc is 0.8467\n",
            "The Confusion Matrix is\n",
            "[[5445   16]\n",
            " [ 984   77]]\n",
            "The Profit Matrix for the dataset is:\n",
            "[[    -0.      -48.  ]\n",
            " [-33623.28   2400.09]]\n",
            "The Average Profit per Person is -4.79\n",
            " \n",
            " \n",
            "The Probability Threshold is 0.80 and corresponding acc is 0.8444\n",
            "The Confusion Matrix is\n",
            "[[5453    8]\n",
            " [1007   54]]\n",
            "The Profit Matrix for the dataset is:\n",
            "[[-0.000000e+00 -2.400000e+01]\n",
            " [-3.440919e+04  1.683180e+03]]\n",
            "The Average Profit per Person is -5.02\n",
            " \n",
            " \n",
            "The Probability Threshold is 0.85 and corresponding acc is 0.8421\n",
            "The Confusion Matrix is\n",
            "[[5455    6]\n",
            " [1024   37]]\n",
            "The Profit Matrix for the dataset is:\n",
            "[[-0.000000e+00 -1.800000e+01]\n",
            " [-3.499008e+04  1.153290e+03]]\n",
            "The Average Profit per Person is -5.19\n",
            " \n",
            " \n",
            "The Probability Threshold is 0.90 and corresponding acc is 0.8410\n",
            "The Confusion Matrix is\n",
            "[[5459    2]\n",
            " [1035   26]]\n",
            "The Profit Matrix for the dataset is:\n",
            "[[-0.000000e+00 -6.000000e+00]\n",
            " [-3.536595e+04  8.104200e+02]]\n",
            "The Average Profit per Person is -5.30\n",
            " \n",
            " \n"
          ],
          "name": "stdout"
        }
      ]
    },
    {
      "cell_type": "markdown",
      "metadata": {
        "id": "1NdoChB9PgHG"
      },
      "source": [
        "**3.4 c) Compare the above classifier with our baseline classifiers. What do you observe? Is this classifier worth pursuing?**"
      ]
    },
    {
      "cell_type": "markdown",
      "metadata": {
        "id": "uGy6C40CPgHG"
      },
      "source": [
        "ANS<BR>\n",
        "IN TERMS OF PROFIT, THE CLASSIFIER WITH 0.05 THRESHOLD IS DOING PRETTY WELL. IT DOES SEEM TO BE WORTH PURSUING.\n",
        "\n"
      ]
    },
    {
      "cell_type": "markdown",
      "metadata": {
        "id": "6Jg9X7yJPgHG"
      },
      "source": [
        "## Part 4: ROC Curves & Profit Curves (20 points)"
      ]
    },
    {
      "cell_type": "markdown",
      "metadata": {
        "id": "DGRtw6hePgHH"
      },
      "source": [
        "#### 4.1 ROC Curves (3 points)\n",
        "\n",
        "ROC curves are a set of classifiers, many of them, each point corresponding to a different threshold. They are useful to compare classifiers to each other and also to baseline models.\n",
        "(In the standard scenario, where we used the  classifier accuracy, this threshold is implicitly set at 0.5, and we have only one point on the ROC curve.).\n",
        "\n",
        "The practical way to do this is to order the samples by probability of being positive. Then consider the sample with the highest score or highest probability of being positive. At first, only this sample is positive. Then, we take the sample with the next highest score, and call it positive. As we go down the list, we go down a threshold in score or probability. \n",
        "\n",
        "Now, for each such situation: only 1 positive, now 2 positive,....you can imagine a different classifier with a different confusion matrix. It will have its own false positives, three positives, etc. Its actually the same original classifier, but with a different threshold each time.\n",
        "\n",
        "As we keep going down the list, decreasing the threshold, more and more samples become positive, and at first, the true positives rise faster than the false positives. Once past a certain point, false positives increase faster than true positives. Now, if you want a balanced classifier, you look at this turn-around point. But if you want a classifier which penalizes false positives and false negatives differently, the point you want is different.\n",
        "\n",
        "To make a ROC curve you plot the True Positive Rate, \n",
        "\n",
        "$$TPR=\\frac{TP}{OP}$$\n",
        "\n",
        "against the False Positive Rate,\n",
        "\n",
        "$$FPR=\\frac{FP}{ON}$$\n",
        "\n",
        "as you go through this process of going down the list of samples. ROC curves are useful because they calculate one classifier per threshold and show you where you are in TPR/FPR space without making any assumptions about the utility matrix or which threshold is appropriate.\n",
        "\n",
        "A rote reading of the ROC curve (go to the \"northwest\" corner) is a bad idea: you must fold in the curve with any assumptions you are making about the utilities. In our case we have both an asymmetric data set, and asymmetric risk, so the north west corner may not be the right spot. Still, on the whole, a curve with a greater AUC (area under curve), or further away from the line of randomness, will give us a rough idea of what might be a better classifier."
      ]
    },
    {
      "cell_type": "markdown",
      "metadata": {
        "id": "GQK5lr_sPgHI"
      },
      "source": [
        "**Plot the ROC curves for the Logistic-L1 model. Use the helper function below given below to help you out with this**"
      ]
    },
    {
      "cell_type": "code",
      "metadata": {
        "id": "lFzxUy7fPgHI"
      },
      "source": [
        "# helper function to plot the ROC Curve\n",
        "\n",
        "def make_roc(clf, ytest, xtest):\n",
        "    \n",
        "    fig,ax=plt.subplots(figsize=(12,8))\n",
        "    fpr, tpr, thresholds=roc_curve(ytest, clf.predict_proba(xtest)[:,1])\n",
        "    roc_auc = auc(fpr, tpr)\n",
        "    ax.plot(fpr, tpr, '.-', alpha=0.3, label='ROC curve (area = %0.2f)' % (roc_auc))\n",
        "    \n",
        "    label_kwargs = {}\n",
        "    label_kwargs['bbox'] = dict(\n",
        "        boxstyle='round,pad=0.3', alpha=0.2,\n",
        "    )\n",
        "    for k in range(0, fpr.shape[0],200):\n",
        "        #from https://gist.github.com/podshumok/c1d1c9394335d86255b8\n",
        "        threshold = str(np.round(thresholds[k], 2))\n",
        "        ax.annotate(threshold, (fpr[k], tpr[k]), **label_kwargs)\n",
        "        \n",
        "    ax.plot([0, 1], [0, 1], 'k--', label='No Model')\n",
        "    ax.set_xlim([0.0, 1.0])\n",
        "    ax.set_ylim([0.0, 1.05])\n",
        "    ax.set_xlabel('False Positive Rate')\n",
        "    ax.set_ylabel('True Positive Rate')\n",
        "    ax.set_title('ROC')\n",
        "    ax.legend(loc=\"lower right\")\n",
        "    \n",
        "    return ax\n",
        "        \n",
        "    "
      ],
      "execution_count": null,
      "outputs": []
    },
    {
      "cell_type": "code",
      "metadata": {
        "id": "kJzQui28PgHI",
        "colab": {
          "base_uri": "https://localhost:8080/",
          "height": 556
        },
        "outputId": "ccfa8474-e092-40dd-d27a-9e7ebe9f2934"
      },
      "source": [
        "#your code here\r\n",
        "make_roc(best_estimate,y_test,X_test)"
      ],
      "execution_count": null,
      "outputs": [
        {
          "output_type": "execute_result",
          "data": {
            "text/plain": [
              "<matplotlib.axes._subplots.AxesSubplot at 0x7f6bc6375910>"
            ]
          },
          "metadata": {
            "tags": []
          },
          "execution_count": 30
        },
        {
          "output_type": "display_data",
          "data": {
            "image/png": "[encoded data removed]",
            "text/plain": [
              "<Figure size 864x576 with 1 Axes>"
            ]
          },
          "metadata": {
            "tags": [],
            "needs_background": "light"
          }
        }
      ]
    },
    {
      "cell_type": "markdown",
      "metadata": {
        "id": "YBHtAN4sPgHI"
      },
      "source": [
        "#### 4.2 Profit Curves (17 points)\n",
        "\n",
        "Just like in a ROC curve, we go down the sorted (by score or probability) list of samples. We one-by-one add an additional sample to our positive samples, noting down the classifier's TPR and FPR and threshold. In addition to what we do for the ROC curve, we now also note down the percentage of our list of samples predicted as positive. Remember we start from the most positive, where the percentage labelled as positive would be minuscule, like 0.1 or so and the threshold like a 0.99 in probability or so. As we decrease the threshold, the percentage predicted to be positive clearly increases until everything is predicted positive at a threshold of 0. What we now do is, at each such additional sample/threshold (given to us by the `roc_curve` function from `sklearn`), we calculate the expected profit per person and plot it against the percentage predicted positive by that threshold to produce a profit curve. Thus, small percentages correspond to samples most likely to be positive: a percentage of 8% means the top 8% of our samples ranked by likelihood of being positive.\n"
      ]
    },
    {
      "cell_type": "markdown",
      "metadata": {
        "id": "bBUpTVoQPgHI"
      },
      "source": [
        "**4.2 a) Write a function to calculate the percentage of samples classified/predicted as positive given the TPR and FPR of a classifier. Follow the instructions below**"
      ]
    },
    {
      "cell_type": "code",
      "metadata": {
        "id": "m2BBfh9wPgHJ"
      },
      "source": [
        "def percentage(tpr, fpr, priorp, priorn):\n",
        "    \"\"\"\n",
        "    Function\n",
        "    --------\n",
        "    percentage\n",
        "\n",
        "    Inputs\n",
        "    ------\n",
        "    tpr: True Positive Rate\n",
        "    fpr: False Positive Rate\n",
        "    priorp: the probability of observed +ives (OP) on our test set\n",
        "    priorn: the probability of observed -ives (ON) on our test set\n",
        "\n",
        "    Returns\n",
        "    -------\n",
        "    perc: percentage of samples classified as positive\n",
        "    \"\"\"\n",
        "    #your code here\n",
        "    perc=tpr*priorp+fpr*priorn\n",
        "    return perc\n",
        "    "
      ],
      "execution_count": null,
      "outputs": []
    },
    {
      "cell_type": "markdown",
      "metadata": {
        "id": "yAvFHbwtPgHJ"
      },
      "source": [
        "**4.2 b) Write a function to calculate the Expected Profit Per Person given the TPR & FPR from a classifier(this is different than our `average_profit_pp` above as we now want this in terms of TPR and FPR.**"
      ]
    },
    {
      "cell_type": "code",
      "metadata": {
        "id": "oMtdl_i1PgHK"
      },
      "source": [
        "def av_profit(tpr, fpr, util, priorp, priorn):\n",
        "    \"\"\"\n",
        "    Function\n",
        "    --------\n",
        "    percentage\n",
        "\n",
        "    Inputs\n",
        "    ------\n",
        "    tpr: True Positive Rate\n",
        "    fpr: False Positive Rate\n",
        "    util: Utility Matrix\n",
        "    priorp: the probability of observed +ives (OP) on our test set\n",
        "    priorn: the probability of observed +ives (ON) on our test set\n",
        "\n",
        "    Returns\n",
        "    -------\n",
        "    profit: the average profit per person at this (fpr, tpr) point in this ROC space.\n",
        "    \n",
        "    Notes\n",
        "    -----\n",
        "    see make_profit below for an example of how this is used\n",
        "    \"\"\"\n",
        "    #your code here\n",
        "    perc_mat=np.array([[(1-fpr)*priorn,fpr*priorn],\n",
        "                            [(1-tpr)*priorp,tpr*priorp]])\n",
        "    profit_mat=np.multiply(perc_mat,util)\n",
        "    profit=np.sum(profit_mat)\n",
        "    return profit"
      ],
      "execution_count": null,
      "outputs": []
    },
    {
      "cell_type": "markdown",
      "metadata": {
        "id": "Prx-w-7bPgHL"
      },
      "source": [
        "**4.2 c) Plot the Profit Curve for our Logistic-L1 model using the helper function below. Also plot the profit lines for the STE(Send to Everyone) and the DSTE (Dont Send to Anyone) baseline classifiers. Make sure the labels are appropriately named and the legend is clearly displayed**"
      ]
    },
    {
      "cell_type": "code",
      "metadata": {
        "id": "Qxx5Z-rjPgHL"
      },
      "source": [
        "# helper function to plot the profit curve\n",
        "\n",
        "def make_profit(clf, ytest, xtest, util):\n",
        "    \n",
        "    fig,ax=plt.subplots(figsize=(12,8))\n",
        "    fpr, tpr, thresholds=roc_curve(ytest, clf.predict_proba(xtest)[:,1])\n",
        "    priorp=np.mean(ytest)\n",
        "    priorn=1. - priorp\n",
        "    ben=[]\n",
        "    percs=[]\n",
        "    \n",
        "    for i,t in enumerate(thresholds):\n",
        "        perc=percentage(tpr[i], fpr[i], priorp, priorn)\n",
        "        ev = av_profit(tpr[i], fpr[i], util, priorp, priorn)\n",
        "        ben.append(ev)\n",
        "        percs.append(perc*100)\n",
        "    ax.plot(percs, ben, '-', alpha=0.3, markersize=5, label='Profit Curve for model' )\n",
        "   \n",
        "    label_kwargs = {}\n",
        "    label_kwargs['bbox'] = dict(\n",
        "    boxstyle='round,pad=0.3', alpha=0.2,\n",
        "    )\n",
        "    for k in range(0, fpr.shape[0],200):\n",
        "        #from https://gist.github.com/podshumok/c1d1c9394335d86255b8\n",
        "        threshold = str(np.round(thresholds[k], 2))\n",
        "        ax.annotate(threshold, (percs[k], ben[k]), **label_kwargs)\n",
        "                \n",
        "    ax.set_xlabel('% Predicted Positive')\n",
        "    ax.set_ylabel('Avg Profit Per Person')\n",
        "    ax.set_title('Profit Curve')\n",
        "    return ax\n"
      ],
      "execution_count": null,
      "outputs": []
    },
    {
      "cell_type": "code",
      "metadata": {
        "id": "3Syul-PHPgHL",
        "colab": {
          "base_uri": "https://localhost:8080/",
          "height": 556
        },
        "outputId": "9555808c-b33d-4896-dd56-57e4bd45cf0f"
      },
      "source": [
        "# your code here\r\n",
        "make_profit(best_estimate,y_test,X_test,profit_mtx)"
      ],
      "execution_count": null,
      "outputs": [
        {
          "output_type": "execute_result",
          "data": {
            "text/plain": [
              "<matplotlib.axes._subplots.AxesSubplot at 0x7f6bbc8811d0>"
            ]
          },
          "metadata": {
            "tags": []
          },
          "execution_count": 40
        },
        {
          "output_type": "display_data",
          "data": {
            "image/png": "[encoded data removed]",
            "text/plain": [
              "<Figure size 864x576 with 1 Axes>"
            ]
          },
          "metadata": {
            "tags": [],
            "needs_background": "light"
          }
        }
      ]
    },
    {
      "cell_type": "markdown",
      "metadata": {
        "id": "eUHe0_09PgHL"
      },
      "source": [
        "**4.2 d) Why you only start making a profit at a certain percentage?**"
      ]
    },
    {
      "cell_type": "markdown",
      "metadata": {
        "id": "nWneaS3SPgHL"
      },
      "source": [
        "ANS<BR>\n",
        "THIS TIES UP WELL WITH WHAT WE SAW EARLIER IN THE ACCURACY VS PROFIT COMPARISON. IF WE DON'T PREDICT MANY POSITIVE RESULTS, WE WILL GET A GREAT ACCURACY BUT WE WON'T BE MAKING ANY SORT OF PROFIT. ON THE OTHER HAND, IF WE DECREASE THE THRESHOLD, WE ARE GOING TO PREDICT MORE AND MORE POSITIVE CASES AND GOING TO INCREASE THE PROFIT. WE NEED TO FIND THE SWEET THE SPOT WHERE WE HAVE THE MAXIMUM PROFIT.\n"
      ]
    },
    {
      "cell_type": "markdown",
      "metadata": {
        "id": "Rsvf83ecPgHM"
      },
      "source": [
        "**4.2 e) What is the region on interest on the graph that you might want to communicate with the company managers in terms of maximizing your profit over the baseline?**"
      ]
    },
    {
      "cell_type": "markdown",
      "metadata": {
        "id": "ZWYRBunmPgHN"
      },
      "source": [
        "\n",
        "ANS<BR>\n",
        "THE REGION FROM 0.25 TO 0.11 IS THE BEST BET IF WE ARE TO MAXIMIZE THE PROFIT WHILE KEEPING IN MIND THAT WE DON'T INVEST TOO MUCH BY JUST SENDING THE MAIL TO ALL THE CUSTOMERS.\n",
        "\n"
      ]
    },
    {
      "cell_type": "markdown",
      "metadata": {
        "id": "uQtadgzIWRgS"
      },
      "source": [
        "**THE END**<BR>\r\n",
        "**THANKS FOR THE READ**"
      ]
    }
  ]
}